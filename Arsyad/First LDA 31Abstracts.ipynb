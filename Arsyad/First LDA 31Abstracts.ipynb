{
  "cells": [
    {
      "attachments": {},
      "cell_type": "markdown",
      "metadata": {
        "colab_type": "text",
        "id": "view-in-github"
      },
      "source": [
        "<a href=\"https://colab.research.google.com/github/arsyadCode/ProjekTA_UPERESEARCH/blob/main/First%20LDA%2031Abstracts.ipynb\" target=\"_parent\"><img src=\"https://colab.research.google.com/assets/colab-badge.svg\" alt=\"Open In Colab\"/></a>"
      ]
    },
    {
      "attachments": {},
      "cell_type": "markdown",
      "metadata": {
        "id": "fpi7WWaG4k5s"
      },
      "source": [
        "# Data Mining"
      ]
    },
    {
      "cell_type": "code",
      "execution_count": null,
      "metadata": {
        "id": "xLTR8avada_P",
        "vscode": {
          "languageId": "python"
        }
      },
      "outputs": [],
      "source": [
        "from helper import *  \n",
        "import warnings\n",
        "warnings.filterwarnings('ignore')\n",
        "import pandas as pd #a library to make the data more structured55r56y6y"
      ]
    },
    {
      "cell_type": "code",
      "execution_count": null,
      "metadata": {
        "colab": {
          "base_uri": "https://localhost:8080/",
          "height": 1000
        },
        "id": "SqJ6bJwOdmxH",
        "outputId": "4f21f9db-6993-4f0d-cf62-0b78a942ced6",
        "vscode": {
          "languageId": "python"
        }
      },
      "outputs": [
        {
          "data": {
            "text/html": [
              "\n",
              "  <div id=\"df-14d91621-e5ad-40de-8cd0-67fedd9bbc85\">\n",
              "    <div class=\"colab-df-container\">\n",
              "      <div>\n",
              "<style scoped>\n",
              "    .dataframe tbody tr th:only-of-type {\n",
              "        vertical-align: middle;\n",
              "    }\n",
              "\n",
              "    .dataframe tbody tr th {\n",
              "        vertical-align: top;\n",
              "    }\n",
              "\n",
              "    .dataframe thead th {\n",
              "        text-align: right;\n",
              "    }\n",
              "</style>\n",
              "<table border=\"1\" class=\"dataframe\">\n",
              "  <thead>\n",
              "    <tr style=\"text-align: right;\">\n",
              "      <th></th>\n",
              "      <th>Abstract(s)</th>\n",
              "    </tr>\n",
              "  </thead>\n",
              "  <tbody>\n",
              "    <tr>\n",
              "      <th>0</th>\n",
              "      <td>We implemented a systematic literature review ...</td>\n",
              "    </tr>\n",
              "    <tr>\n",
              "      <th>1</th>\n",
              "      <td>Artificial Intelligence (AI) techniques of dee...</td>\n",
              "    </tr>\n",
              "    <tr>\n",
              "      <th>2</th>\n",
              "      <td>Mining sensor data offers great opportunities ...</td>\n",
              "    </tr>\n",
              "    <tr>\n",
              "      <th>3</th>\n",
              "      <td>We identified gaps for each of the 4 component...</td>\n",
              "    </tr>\n",
              "    <tr>\n",
              "      <th>4</th>\n",
              "      <td>The rapid progress in digitalization and autom...</td>\n",
              "    </tr>\n",
              "    <tr>\n",
              "      <th>5</th>\n",
              "      <td>Learning analytics (LA) is a significant field...</td>\n",
              "    </tr>\n",
              "    <tr>\n",
              "      <th>6</th>\n",
              "      <td>Sentiment Analysis (SA), a technique based on ...</td>\n",
              "    </tr>\n",
              "    <tr>\n",
              "      <th>7</th>\n",
              "      <td>Residential energy feedback is about providing...</td>\n",
              "    </tr>\n",
              "    <tr>\n",
              "      <th>8</th>\n",
              "      <td>The computer vision applications in intelligen...</td>\n",
              "    </tr>\n",
              "    <tr>\n",
              "      <th>9</th>\n",
              "      <td>An important and emergent area of research wit...</td>\n",
              "    </tr>\n",
              "    <tr>\n",
              "      <th>10</th>\n",
              "      <td>The rapid progress in digitalization and autom...</td>\n",
              "    </tr>\n",
              "    <tr>\n",
              "      <th>11</th>\n",
              "      <td>As time goes on and the number of people who u...</td>\n",
              "    </tr>\n",
              "    <tr>\n",
              "      <th>12</th>\n",
              "      <td>Each section of this chapter is written by a d...</td>\n",
              "    </tr>\n",
              "    <tr>\n",
              "      <th>13</th>\n",
              "      <td>In the Software Engineering Education (SEE) co...</td>\n",
              "    </tr>\n",
              "    <tr>\n",
              "      <th>14</th>\n",
              "      <td>Metaverse is the buzz technology of the moment...</td>\n",
              "    </tr>\n",
              "    <tr>\n",
              "      <th>15</th>\n",
              "      <td>Health behaviors are inextricably linked to he...</td>\n",
              "    </tr>\n",
              "    <tr>\n",
              "      <th>16</th>\n",
              "      <td>Immersive virtual reality (IVR) is considered ...</td>\n",
              "    </tr>\n",
              "    <tr>\n",
              "      <th>17</th>\n",
              "      <td>Smart Technology is a quickly and constantly e...</td>\n",
              "    </tr>\n",
              "    <tr>\n",
              "      <th>18</th>\n",
              "      <td>Metaverse is invading the educational sector a...</td>\n",
              "    </tr>\n",
              "    <tr>\n",
              "      <th>19</th>\n",
              "      <td>With the advent of digital therapeutics (DTx),...</td>\n",
              "    </tr>\n",
              "    <tr>\n",
              "      <th>20</th>\n",
              "      <td>One of the modern technologies with the most p...</td>\n",
              "    </tr>\n",
              "    <tr>\n",
              "      <th>21</th>\n",
              "      <td>Serious games are increasingly popular in mult...</td>\n",
              "    </tr>\n",
              "    <tr>\n",
              "      <th>22</th>\n",
              "      <td>Climate change has become a major problem for ...</td>\n",
              "    </tr>\n",
              "    <tr>\n",
              "      <th>23</th>\n",
              "      <td>This literature review surveys the extant rese...</td>\n",
              "    </tr>\n",
              "    <tr>\n",
              "      <th>24</th>\n",
              "      <td>Big data (BD) is making advances in promoting ...</td>\n",
              "    </tr>\n",
              "    <tr>\n",
              "      <th>25</th>\n",
              "      <td>Several works of literature contributed to the...</td>\n",
              "    </tr>\n",
              "    <tr>\n",
              "      <th>26</th>\n",
              "      <td>Through this scoping review, nonmedical profes...</td>\n",
              "    </tr>\n",
              "    <tr>\n",
              "      <th>27</th>\n",
              "      <td>The use of on-scene decryption and the categor...</td>\n",
              "    </tr>\n",
              "    <tr>\n",
              "      <th>28</th>\n",
              "      <td>App-based mHealth physical activity studies co...</td>\n",
              "    </tr>\n",
              "    <tr>\n",
              "      <th>29</th>\n",
              "      <td>Road safety is increasingly threatened by dist...</td>\n",
              "    </tr>\n",
              "    <tr>\n",
              "      <th>30</th>\n",
              "      <td>This systematic scoping review provides a uniq...</td>\n",
              "    </tr>\n",
              "    <tr>\n",
              "      <th>31</th>\n",
              "      <td>Manufacturing industries are currently experie...</td>\n",
              "    </tr>\n",
              "  </tbody>\n",
              "</table>\n",
              "</div>\n",
              "      <button class=\"colab-df-convert\" onclick=\"convertToInteractive('df-14d91621-e5ad-40de-8cd0-67fedd9bbc85')\"\n",
              "              title=\"Convert this dataframe to an interactive table.\"\n",
              "              style=\"display:none;\">\n",
              "        \n",
              "  <svg xmlns=\"http://www.w3.org/2000/svg\" height=\"24px\"viewBox=\"0 0 24 24\"\n",
              "       width=\"24px\">\n",
              "    <path d=\"M0 0h24v24H0V0z\" fill=\"none\"/>\n",
              "    <path d=\"M18.56 5.44l.94 2.06.94-2.06 2.06-.94-2.06-.94-.94-2.06-.94 2.06-2.06.94zm-11 1L8.5 8.5l.94-2.06 2.06-.94-2.06-.94L8.5 2.5l-.94 2.06-2.06.94zm10 10l.94 2.06.94-2.06 2.06-.94-2.06-.94-.94-2.06-.94 2.06-2.06.94z\"/><path d=\"M17.41 7.96l-1.37-1.37c-.4-.4-.92-.59-1.43-.59-.52 0-1.04.2-1.43.59L10.3 9.45l-7.72 7.72c-.78.78-.78 2.05 0 2.83L4 21.41c.39.39.9.59 1.41.59.51 0 1.02-.2 1.41-.59l7.78-7.78 2.81-2.81c.8-.78.8-2.07 0-2.86zM5.41 20L4 18.59l7.72-7.72 1.47 1.35L5.41 20z\"/>\n",
              "  </svg>\n",
              "      </button>\n",
              "      \n",
              "  <style>\n",
              "    .colab-df-container {\n",
              "      display:flex;\n",
              "      flex-wrap:wrap;\n",
              "      gap: 12px;\n",
              "    }\n",
              "\n",
              "    .colab-df-convert {\n",
              "      background-color: #E8F0FE;\n",
              "      border: none;\n",
              "      border-radius: 50%;\n",
              "      cursor: pointer;\n",
              "      display: none;\n",
              "      fill: #1967D2;\n",
              "      height: 32px;\n",
              "      padding: 0 0 0 0;\n",
              "      width: 32px;\n",
              "    }\n",
              "\n",
              "    .colab-df-convert:hover {\n",
              "      background-color: #E2EBFA;\n",
              "      box-shadow: 0px 1px 2px rgba(60, 64, 67, 0.3), 0px 1px 3px 1px rgba(60, 64, 67, 0.15);\n",
              "      fill: #174EA6;\n",
              "    }\n",
              "\n",
              "    [theme=dark] .colab-df-convert {\n",
              "      background-color: #3B4455;\n",
              "      fill: #D2E3FC;\n",
              "    }\n",
              "\n",
              "    [theme=dark] .colab-df-convert:hover {\n",
              "      background-color: #434B5C;\n",
              "      box-shadow: 0px 1px 3px 1px rgba(0, 0, 0, 0.15);\n",
              "      filter: drop-shadow(0px 1px 2px rgba(0, 0, 0, 0.3));\n",
              "      fill: #FFFFFF;\n",
              "    }\n",
              "  </style>\n",
              "\n",
              "      <script>\n",
              "        const buttonEl =\n",
              "          document.querySelector('#df-14d91621-e5ad-40de-8cd0-67fedd9bbc85 button.colab-df-convert');\n",
              "        buttonEl.style.display =\n",
              "          google.colab.kernel.accessAllowed ? 'block' : 'none';\n",
              "\n",
              "        async function convertToInteractive(key) {\n",
              "          const element = document.querySelector('#df-14d91621-e5ad-40de-8cd0-67fedd9bbc85');\n",
              "          const dataTable =\n",
              "            await google.colab.kernel.invokeFunction('convertToInteractive',\n",
              "                                                     [key], {});\n",
              "          if (!dataTable) return;\n",
              "\n",
              "          const docLinkHtml = 'Like what you see? Visit the ' +\n",
              "            '<a target=\"_blank\" href=https://colab.research.google.com/notebooks/data_table.ipynb>data table notebook</a>'\n",
              "            + ' to learn more about interactive tables.';\n",
              "          element.innerHTML = '';\n",
              "          dataTable['output_type'] = 'display_data';\n",
              "          await google.colab.output.renderOutput(dataTable, element);\n",
              "          const docLink = document.createElement('div');\n",
              "          docLink.innerHTML = docLinkHtml;\n",
              "          element.appendChild(docLink);\n",
              "        }\n",
              "      </script>\n",
              "    </div>\n",
              "  </div>\n",
              "  "
            ],
            "text/plain": [
              "                                          Abstract(s)\n",
              "0   We implemented a systematic literature review ...\n",
              "1   Artificial Intelligence (AI) techniques of dee...\n",
              "2   Mining sensor data offers great opportunities ...\n",
              "3   We identified gaps for each of the 4 component...\n",
              "4   The rapid progress in digitalization and autom...\n",
              "5   Learning analytics (LA) is a significant field...\n",
              "6   Sentiment Analysis (SA), a technique based on ...\n",
              "7   Residential energy feedback is about providing...\n",
              "8   The computer vision applications in intelligen...\n",
              "9   An important and emergent area of research wit...\n",
              "10  The rapid progress in digitalization and autom...\n",
              "11  As time goes on and the number of people who u...\n",
              "12  Each section of this chapter is written by a d...\n",
              "13  In the Software Engineering Education (SEE) co...\n",
              "14  Metaverse is the buzz technology of the moment...\n",
              "15  Health behaviors are inextricably linked to he...\n",
              "16  Immersive virtual reality (IVR) is considered ...\n",
              "17  Smart Technology is a quickly and constantly e...\n",
              "18  Metaverse is invading the educational sector a...\n",
              "19  With the advent of digital therapeutics (DTx),...\n",
              "20  One of the modern technologies with the most p...\n",
              "21  Serious games are increasingly popular in mult...\n",
              "22  Climate change has become a major problem for ...\n",
              "23  This literature review surveys the extant rese...\n",
              "24  Big data (BD) is making advances in promoting ...\n",
              "25  Several works of literature contributed to the...\n",
              "26  Through this scoping review, nonmedical profes...\n",
              "27  The use of on-scene decryption and the categor...\n",
              "28  App-based mHealth physical activity studies co...\n",
              "29  Road safety is increasingly threatened by dist...\n",
              "30  This systematic scoping review provides a uniq...\n",
              "31  Manufacturing industries are currently experie..."
            ]
          },
          "execution_count": 8,
          "metadata": {},
          "output_type": "execute_result"
        }
      ],
      "source": [
        "url= 'https://raw.githubusercontent.com/arsyadCode/ProjekTA_UPERESEARCH/main/Arsyad/Abstracts_Dataset_22Mei2023.xlsx'\n",
        "\n",
        "df = pd.read_excel(url)\n",
        "df"
      ]
    },
    {
      "cell_type": "code",
      "execution_count": null,
      "metadata": {
        "colab": {
          "base_uri": "https://localhost:8080/"
        },
        "id": "MxWR5yAqMP_S",
        "outputId": "0e4080c0-269c-48cf-81a2-075675086f67",
        "vscode": {
          "languageId": "python"
        }
      },
      "outputs": [
        {
          "data": {
            "text/plain": [
              "32"
            ]
          },
          "execution_count": 26,
          "metadata": {},
          "output_type": "execute_result"
        }
      ],
      "source": [
        "len(df)"
      ]
    },
    {
      "cell_type": "code",
      "execution_count": null,
      "metadata": {
        "colab": {
          "base_uri": "https://localhost:8080/"
        },
        "id": "Oy0uwRRPcksH",
        "outputId": "5fe2f8bc-9341-4be1-f05c-222c2805bd18",
        "vscode": {
          "languageId": "python"
        }
      },
      "outputs": [
        {
          "name": "stdout",
          "output_type": "stream",
          "text": [
            "<class 'pandas.core.frame.DataFrame'>\n",
            "RangeIndex: 32 entries, 0 to 31\n",
            "Data columns (total 1 columns):\n",
            " #   Column       Non-Null Count  Dtype \n",
            "---  ------       --------------  ----- \n",
            " 0   Abstract(s)  32 non-null     object\n",
            "dtypes: object(1)\n",
            "memory usage: 384.0+ bytes\n"
          ]
        }
      ],
      "source": [
        "df.info()"
      ]
    },
    {
      "cell_type": "code",
      "execution_count": null,
      "metadata": {
        "id": "3PYA4slIdNBD",
        "vscode": {
          "languageId": "python"
        }
      },
      "outputs": [],
      "source": [
        "df_new = df[df['Abstract(s)'].notnull()]"
      ]
    },
    {
      "cell_type": "code",
      "execution_count": null,
      "metadata": {
        "colab": {
          "base_uri": "https://localhost:8080/"
        },
        "id": "oH46M5s-Qls9",
        "outputId": "c743fbd3-2a3e-4cfb-e7d3-76827847b941",
        "vscode": {
          "languageId": "python"
        }
      },
      "outputs": [
        {
          "name": "stderr",
          "output_type": "stream",
          "text": [
            "[nltk_data] Downloading package stopwords to /root/nltk_data...\n",
            "[nltk_data]   Package stopwords is already up-to-date!\n"
          ]
        }
      ],
      "source": [
        "import nltk\n",
        "nltk.download('stopwords')\n",
        "from nltk.corpus import stopwords\n",
        "\n",
        "stop_words = set(stopwords.words('english'))\n",
        "df_new['Abstract(s)'] = df_new['Abstract(s)'].apply(lambda x: ' '.join([word for word in x.split() if word not in (stop_words)]))"
      ]
    },
    {
      "cell_type": "code",
      "execution_count": null,
      "metadata": {
        "colab": {
          "base_uri": "https://localhost:8080/"
        },
        "id": "uiih8RfJcG3C",
        "outputId": "bd64e0a7-2e97-4d23-ac97-055072a543b7",
        "vscode": {
          "languageId": "python"
        }
      },
      "outputs": [
        {
          "data": {
            "text/plain": [
              "0    We implemented systematic literature review in...\n",
              "1    Artificial Intelligence (AI) techniques deep l...\n",
              "2    Mining sensor data offers great opportunities ...\n",
              "3    We identified gaps 4 components LA life cycle,...\n",
              "4    The rapid progress digitalization automation l...\n",
              "Name: Abstract(s), dtype: object"
            ]
          },
          "execution_count": 14,
          "metadata": {},
          "output_type": "execute_result"
        }
      ],
      "source": [
        "df_new['Abstract(s)'].head()"
      ]
    },
    {
      "cell_type": "code",
      "execution_count": null,
      "metadata": {
        "colab": {
          "base_uri": "https://localhost:8080/"
        },
        "id": "GGejGqbRh6W4",
        "outputId": "22f92499-1c95-4bb8-f700-24ce790728fd",
        "vscode": {
          "languageId": "python"
        }
      },
      "outputs": [
        {
          "name": "stdout",
          "output_type": "stream",
          "text": [
            "Case Folding Result : \n",
            "\n",
            "0    we implemented systematic literature review in...\n",
            "1    artificial intelligence (ai) techniques deep l...\n",
            "2    mining sensor data offers great opportunities ...\n",
            "3    we identified gaps 4 components la life cycle,...\n",
            "4    the rapid progress digitalization automation l...\n",
            "Name: Abstract(s), dtype: object\n"
          ]
        }
      ],
      "source": [
        "#lower text\n",
        "# ------ Case Folding --------\n",
        "# gunakan fungsi Series.str.lower() pada Pandas\n",
        "df_new['Abstract(s)'] = df_new['Abstract(s)'].str.lower()\n",
        "\n",
        "\n",
        "print('Case Folding Result : \\n')\n",
        "print(df_new['Abstract(s)'].head(5))"
      ]
    },
    {
      "cell_type": "code",
      "execution_count": null,
      "metadata": {
        "id": "7cZEHRgiiaGQ",
        "vscode": {
          "languageId": "python"
        }
      },
      "outputs": [],
      "source": [
        "import string \n",
        "import re #regex library\n",
        "#remove number\n",
        "def remove_number(text):\n",
        "    return  re.sub(r\"\\d+\", \"\", text)\n",
        "\n",
        "df_new['Abstract(s)'] = df_new['Abstract(s)'].apply(remove_number)\n",
        "\n",
        "#remove punctuation\n",
        "def remove_punctuation(text):\n",
        "    return text.translate(str.maketrans(\"\",\"\",string.punctuation))\n",
        "\n",
        "df_new['Abstract(s)'] = df_new['Abstract(s)'].apply(remove_punctuation)"
      ]
    },
    {
      "cell_type": "code",
      "execution_count": null,
      "metadata": {
        "id": "bEYG1tQCixx5",
        "vscode": {
          "languageId": "python"
        }
      },
      "outputs": [],
      "source": [
        "def remove_singl_char(text):\n",
        "    return re.sub(r\"\\b[a-zA-Z]\\b\", \"\", text)\n",
        "\n",
        "df_new['Abstract(s)'] = df_new['Abstract(s)'].apply(remove_singl_char)"
      ]
    },
    {
      "cell_type": "code",
      "execution_count": null,
      "metadata": {
        "colab": {
          "base_uri": "https://localhost:8080/"
        },
        "id": "Aox9mh-NFJaY",
        "outputId": "d9f080be-46a9-49d9-fbe2-634f8a9d018a",
        "vscode": {
          "languageId": "python"
        }
      },
      "outputs": [
        {
          "name": "stdout",
          "output_type": "stream",
          "text": [
            "32\n",
            "[['we', 'implemented', 'systematic', 'literature', 'review', 'investigate', 'trends', 'issues', 'learning', 'analytics', 'seamless', 'learning', 'environments', 'we', 'collected', 'analyzed', 'total', 'empirical', 'journal', 'articles', 'study', 'discuss', 'learning', 'analytics', 'design', 'implementation', 'seamless', 'learning', 'environments', 'in', 'recent', 'decade', 'researchers', 'explored', 'various', 'seamless', 'learning', 'environments', 'supporting', 'students’', 'inquirybased', 'experiential', 'learning', 'seamless', 'learning', 'aims', 'engage', 'students', 'develop', 'elaborate', 'apply', 'knowledge', 'various', 'inquirybased', 'learning', 'contexts', 'with', 'significance', 'formative', 'assessment', 'digital', 'learning', 'environments', 'integrating', 'learning', 'analytics', 'seamless', 'learning', 'environments', 'increasingly', 'evolved', 'trace', 'assess', 'student', 'learning', 'despite', 'various', 'uses', 'learning', 'analytics', 'seamless', 'learning', 'lack', 'comprehensive', 'reviews', 'illustrate', 'learning', 'analytics', 'integrated', 'seamless', 'learning', 'this', 'literature', 'synthesis', 'decomposes', 'collected', 'journal', 'articles', 'understand', 'learning', 'analytics', 'design', 'integrations', 'inherent', 'seamless', 'learning', 'environments', 'also', 'using', 'qualitative', 'thematic', 'analysis', 'systematic', 'literature', 'review', 'demonstrates', 'various', 'design', 'practices', 'future', 'research', 'directions', 'learning', 'analytics', 'seamless', 'learning', 'environments'], ['artificial', 'intelligence', 'ai', 'techniques', 'deep', 'learning', 'revolutionized', 'disease', 'diagnosis', 'outstanding', 'image', 'classification', 'performance', 'in', 'spite', 'outstanding', 'results', 'widespread', 'adoption', 'techniques', 'clinical', 'practice', 'still', 'taking', 'place', 'moderate', 'pace', 'one', 'major', 'hindrance', 'trained', 'deep', 'neural', 'networks', 'dnn', 'model', 'provides', 'prediction', 'questions', 'prediction', 'made', 'remain', 'unanswered', 'this', 'linkage', 'utmost', 'importance', 'regulated', 'healthcare', 'domain', 'increase', 'trust', 'automated', 'diagnosis', 'system', 'practitioners', 'patients', 'stakeholders', 'the', 'application', 'deep', 'learning', 'medical', 'imaging', 'interpreted', 'caution', 'due', 'health', 'safety', 'concerns', 'similar', 'blame', 'attribution', 'case', 'accident', 'involving', 'autonomous', 'cars', 'the', 'consequences', 'false', 'positive', 'false', 'negative', 'cases', 'far', 'reaching', 'patients', 'welfare', 'cannot', 'ignored', 'this', 'exacerbated', 'fact', 'stateoftheart', 'deep', 'learning', 'algorithms', 'comprise', 'complex', 'interconnected', 'structures', 'millions', 'parameters', '‘black', 'box’', 'nature', 'offering', 'little', 'understanding', 'inner', 'working', 'unlike', 'traditional', 'machine', 'learning', 'algorithms', 'explainable', 'ai', 'xai', 'techniques', 'help', 'understand', 'model', 'predictions', 'help', 'develop', 'trust', 'system', 'accelerate', 'disease', 'diagnosis', 'meet', 'adherence', 'regulatory', 'requirements', 'this', 'survey', 'provides', 'comprehensive', 'review', 'promising', 'field', 'xai', 'biomedical', 'imaging', 'diagnostics', 'we', 'also', 'provide', 'categorization', 'xai', 'techniques', 'discuss', 'open', 'challenges', 'provide', 'future', 'directions', 'xai', 'would', 'interest', 'clinicians', 'regulators', 'model', 'developers'], ['mining', 'sensor', 'data', 'offers', 'great', 'opportunities', 'analyze', 'physical', 'activity', 'behavior', 'changes', 'build', 'models', 'better', 'detect', 'interpret', 'behavior', 'changes', 'allow', 'personalized', 'feedback', 'support', 'participants', 'especially', 'larger', 'sample', 'sizes', 'longer', 'recording', 'times', 'available', 'exploring', 'different', 'data', 'aggregation', 'levels', 'help', 'detect', 'subtle', 'sustained', 'behavior', 'changes', 'however', 'literature', 'suggests', 'still', 'work', 'remaining', 'improve', 'transparency', 'explicitness', 'standardization', 'data', 'preprocessing', 'mining', 'processes', 'establish', 'best', 'practices', 'make', 'detection', 'methods', 'easier', 'understand', 'scrutinize', 'reproduce'], ['we', 'identified', 'gaps', 'components', 'la', 'life', 'cycle', 'lack', 'iterative', 'approach', 'designing', 'courses', 'health', 'care', 'professions', 'prevalent', 'we', 'identified', 'instance', 'authors', 'used', 'knowledge', 'previous', 'course', 'improve', 'next', 'course', 'only', 'studies', 'reported', 'la', 'used', 'detect', 'atrisk', 'students', 'course’', 'run', 'compared', 'overwhelming', 'majority', 'studies', 'data', 'analysis', 'performed', 'course', 'completed'], ['the', 'rapid', 'progress', 'digitalization', 'automation', 'led', 'accelerated', 'growth', 'healthcare', 'generating', 'novel', 'models', 'creating', 'new', 'channels', 'rendering', 'treatment', 'reduced', 'cost', 'the', 'metaverse', 'emerging', 'technology', 'digital', 'space', 'huge', 'potential', 'healthcare', 'enabling', 'realistic', 'experiences', 'patients', 'well', 'medical', 'practitioners', 'the', 'metaverse', 'confluence', 'multiple', 'enabling', 'technologies', 'artificial', 'intelligence', 'virtual', 'reality', 'augmented', 'reality', 'internet', 'medical', 'devices', 'robotics', 'quantum', 'computing', 'etc', 'new', 'directions', 'providing', 'quality', 'healthcare', 'treatment', 'services', 'explored', 'the', 'amalgamation', 'technologies', 'ensures', 'immersive', 'intimate', 'personalized', 'patient', 'care', 'it', 'also', 'provides', 'adaptive', 'intelligent', 'solutions', 'eliminates', 'barriers', 'healthcare', 'providers', 'receivers', 'this', 'article', 'provides', 'comprehensive', 'review', 'metaverse', 'healthcare', 'emphasizing', 'state', 'art', 'enabling', 'technologies', 'adopt', 'metaverse', 'healthcare', 'potential', 'applications', 'related', 'projects', 'the', 'issues', 'adaptation', 'metaverse', 'healthcare', 'applications', 'also', 'identified', 'plausible', 'solutions', 'highlighted', 'part', 'future', 'research', 'directions'], ['learning', 'analytics', 'la', 'significant', 'field', 'study', 'examine', 'identify', 'difficulties', 'novice', 'programmers', 'face', 'learning', 'program', 'despite', 'producing', 'notable', 'research', 'community', 'specified', 'area', 'rare', 'work', 'observed', 'synthesize', 'research', 'efforts', 'discover', 'dimensions', 'guide', 'future', 'research', 'learning', 'analytics', 'programming', 'courses', 'lapc', 'this', 'work', 'demonstrates', 'review', 'learning', 'analytics', 'research', 'initial', 'level', 'programming', 'courses', 'exploring', 'different', 'types', 'sources', 'data', 'used', 'la', 'evaluating', 'pertinent', 'facets', 'reporting', 'prediction', 'intervention', 'refinements', 'exhibited', 'literature', 'based', 'reviewed', 'aspects', 'taxonomy', 'lapc', 'research', 'proposed', 'along', 'associated', 'benefits', 'the', 'results', 'reveal', 'learning', 'analytics', 'studies', 'programming', 'courses', 'used', 'assessment', 'data', 'generated', 'conventional', 'assessment', 'processes', 'however', 'analysis', 'based', 'granular', 'level', 'data', 'covering', 'cognitive', 'dimensions', 'concept', 'specific', 'facets', 'could', 'improve', 'accuracies', 'reveal', 'precise', 'aspects', 'learning', 'in', 'addition', 'coding', 'analysis', 'parameters', 'broadly', 'categorized', 'code', 'quality', 'coding', 'process', 'these', 'categories', 'classified', 'present', 'twentyfive', 'subcategories', 'coding', 'parameters', 'analyzing', 'behaviors', 'novice', 'programmers', 'moreover', 'efforts', 'required', 'early', 'identification', 'effective', 'ineffective', 'behavioral', 'patterns', 'performance', 'predictions', 'order', 'deliver', 'timely', 'interventions', 'lastly', 'review', 'emphasizes', 'integration', 'related', 'processes', 'optimize', 'future', 'research', 'efforts', 'conducting', 'learning', 'analytics', 'research', 'programming', 'courses'], ['sentiment', 'analysis', 'sa', 'technique', 'based', 'applying', 'artificial', 'intelligence', 'analyze', 'textual', 'data', 'natural', 'language', 'help', 'characterize', 'interactions', 'students', 'teachers', 'improve', 'learning', 'timely', 'personalized', 'feedback', 'use', 'education', 'still', 'scarce', 'this', 'systematic', 'literature', 'review', 'explores', 'sa', 'applied', 'learning', 'assessment', 'online', 'hybrid', 'learning', 'contexts', 'higher', 'education', 'findings', 'review', 'show', 'growing', 'field', 'research', 'sa', 'although', 'papers', 'written', 'technical', 'perspective', 'published', 'journals', 'related', 'digital', 'technologies', 'even', 'though', 'solutions', 'involving', 'different', 'sa', 'techniques', 'help', 'predicting', 'learning', 'performance', 'enhancing', 'feedback', 'giving', 'teachers', 'visual', 'tools', 'educational', 'applications', 'usability', 'still', 'limited', 'the', 'analysis', 'evidence', 'inclusion', 'variables', 'affect', 'participants’', 'different', 'sentiment', 'expression', 'gender', 'cultural', 'context', 'remains', 'understudied', 'need', 'considered', 'future', 'developments'], ['residential', 'energy', 'feedback', 'providing', 'personalized', 'information', 'household', 'energy', 'use', 'consumers', 'encourage', 'energy', 'savings', 'this', 'paper', 'conducts', 'review', 'fieldbased', 'studies', 'evaluated', 'impact', 'energy', 'feedback', 'residential', 'energy', 'consumption', 'the', 'review', 'includes', 'studies', 'real', 'occupied', 'homes', 'deployed', 'feedback', 'interventions', 'measured', 'energy', 'savings', 'our', 'study', 'builds', 'taxonomy', 'energy', 'feedback', 'based', 'different', 'characteristics', 'feedback', 'frequency', 'type', 'presentation', 'style', 'methods', 'access', 'energy', 'savings', 'similar', 'feedback', 'types', 'found', 'differ', 'depending', 'study', 'conducted', 'the', 'reviewed', 'studies', 'deployed', 'range', 'feedback', 'information', 'including', 'energy', 'units', 'energy', 'cost', 'tailored', 'information', 'conducted', 'across', 'diverse', 'audiences', 'ethnicity', 'geographical', 'positioning', 'varying', 'experimental', 'types', 'longitudinal', 'randomized', 'control', 'trial', 'and', 'size', 'duration', 'studies', 'the', 'duration', 'studies', 'varied', 'widely', 'ranging', 'one', 'month', 'three', 'years', 'demonstrated', 'energy', 'savings', 'while', 'studies', 'achieved', 'energy', 'savings', 'due', 'energy', 'feedback', 'reported', 'increase', 'energy', 'consumption', 'could', 'due', 'rebound', 'effect', 'most', 'studies', 'literature', 'adopted', 'longitudinal', 'design', 'current', 'household', 'energy', 'consumption', 'compared', 'past', 'consumption', 'arrive', 'savings', 'others', 'used', 'randomized', 'control', 'trial', 'rct', 'design', 'energy', 'consumption', 'intervention', 'group', 'compared', 'control', 'group', 'most', 'studies', 'conducted', 'developed', 'countries', 'cold', 'climates', 'there', 'fewer', 'studies', 'done', 'largescale', 'residential', 'energy', 'feedback', 'especially', 'emerging', 'economies', 'rise', 'air', 'conditioning', 'use', 'we', 'propose', 'future', 'studies', 'also', 'consider', 'human', 'behavior', 'cultural', 'influences', 'evaluating', 'impact', 'energy', 'feedback', 'our', 'recommendation', 'academic', 'policy', 'community', 'address', 'gap', 'since', 'energy', 'feedback', 'likely', 'stimulate', 'positive', 'behavior', 'change', 'amongst', 'householders', 'leading', 'energy', 'savings'], ['the', 'computer', 'vision', 'applications', 'intelligent', 'tutoring', 'systems', 'its', 'enabled', 'use', 'various', 'domains', 'dance', 'sports', 'the', 'adaptation', 'tutoring', 'system', 'based', 'analysis', 'hand', 'gestures', 'body', 'postures', 'movement', 'all', 'termed', 'gross', 'body', 'movements', 'gbm', 'the', 'use', 'intelligent', 'tutoring', 'systems', 'termed', 'gbmits', 'article', 'there', 'survey', 'paper', 'considers', 'use', 'gbmits', 'different', 'domains', 'systematic', 'process', 'followed', 'address', 'six', 'review', 'questions', 'rqs', 'considering', 'articles', 'published', 'brief', 'discussion', 'regarding', 'methods', 'adopted', 'analysis', 'performance', 'metrics', 'used', 'evaluation', 'made', 'the', 'use', 'devices', 'purpose', 'study', 'analyzed', 'need', 'use', 'the', 'feedback', 'mechanisms', 'adopted', 'studies', 'reviewed', 'the', 'information', 'derived', 'survey', 'addressing', 'rqs', 'summarised', 'observations', 'this', 'review', 'results', 'indicate', 'impact', 'gbmitss', 'various', 'domains', 'potential', 'reduce', 'human', 'interventions', 'significantly', 'near', 'future', 'some', 'future', 'directions', 'review', 'results', 'indicated', 'are', 'stateoftheart', 'computer', 'vision', 'methods', 'detection', 'tracking', 'along', 'temporal', 'aspects', 'much', 'explored', 'gbmits', 'current', 'gbmits', 'designed', 'beginners', 'vast', 'scope', 'extend', 'intermediate', 'experts', 'test', 'users', 'considerably', 'less', 'need', 'largescale', 'implementations', 'testing', 'generalizability', 'check', 'robustness', 'importance', 'given', 'privacy', 'ethics', 'gbmits', 'performing', 'better', 'since', 'methods', 'use', 'machinedeep', 'learning', 'methods', 'dataset', 'dissemination', 'increase', 'design', 'development', 'gbmits', 'mechanism', 'used', 'providing', 'feedback', 'needs', 'evaluated', 'optimized'], ['an', 'important', 'emergent', 'area', 'research', 'within', 'field', 'ai', 'education', 'aied', 'digital', 'learning', 'games', 'these', 'types', 'games', 'use', 'artificial', 'intelligence', 'support', 'learning', 'motivating', 'engaging', 'students', 'computerbased', 'gameplay', 'aied', 'digital', 'learning', 'games', 'research', 'still', 'nascent', 'stage', 'witnessed', 'infrequently', 'research', 'articles', 'learning', 'games', 'even', 'mention', 'ai', 'schöbel', 'et', 'al', 'furthermore', 'aied', 'researchers', 'created', 'prominent', 'digital', 'games', 'support', 'learning', '–', 'games', 'battleship', 'numberline', 'crystal', 'island', 'decimal', 'point', 'istart', 'mathspring', 'policy', 'world', 'physics', 'playground', 'squares', 'family', 'still', 'many', 'ways', 'ai', 'could', 'applied', 'digital', 'learning', 'games', 'this', 'chapter', 'describes', 'progress', 'thus', 'far', 'aied', 'digital', 'learning', 'games', 'highlights', 'categorizes', 'noteworthy', 'games', 'field', 'suggests', 'new', 'directions', 'research', 'the', 'suggested', 'new', 'directions', 'include', 'focusing', 'equity', 'inclusion', 'aied', 'digital', 'learning', 'games', 'creating', 'realistic', 'compelling', 'nonplayer', 'characters', 'creating', 'student', 'models', 'enjoyment', 'guide', 'gameplay', 'developing', 'games', 'integrate', 'physical', 'world', 'ai', 'game', 'software', 'designing', 'developing', 'collaborative', 'versus', 'individual', 'aied', 'digital', 'learning', 'games', 'moving', 'aied', 'digital', 'learning', 'games', 'research', 'realm', 'realworld', 'use', 'with', 'multidisciplinary', 'approach', 'tapping', 'expertise', 'learning', 'scientists', 'educational', 'technologists', 'game', 'designers', 'human–computer', 'interaction', 'designers', 'ai', 'experts', 'new', 'directions', 'could', 'lead', 'new', 'exciting', 'effective', 'learning', 'games', 'well', 'significantly', 'use', 'educational', 'settings'], ['the', 'rapid', 'progress', 'digitalization', 'automation', 'led', 'accelerated', 'growth', 'healthcare', 'generating', 'novel', 'models', 'creating', 'new', 'channels', 'rendering', 'treatment', 'reduced', 'cost', 'the', 'metaverse', 'emerging', 'technology', 'digital', 'space', 'huge', 'potential', 'healthcare', 'enabling', 'realistic', 'experiences', 'patients', 'well', 'medical', 'practitioners', 'the', 'metaverse', 'confluence', 'multiple', 'enabling', 'technologies', 'artificial', 'intelligence', 'virtual', 'reality', 'augmented', 'reality', 'internet', 'medical', 'devices', 'robotics', 'quantum', 'computing', 'etc', 'new', 'directions', 'providing', 'quality', 'healthcare', 'treatment', 'services', 'explored', 'the', 'amalgamation', 'technologies', 'ensures', 'immersive', 'intimate', 'personalized', 'patient', 'care', 'it', 'also', 'provides', 'adaptive', 'intelligent', 'solutions', 'eliminates', 'barriers', 'healthcare', 'providers', 'receivers', 'this', 'article', 'provides', 'comprehensive', 'review', 'metaverse', 'healthcare', 'emphasizing', 'state', 'art', 'enabling', 'technologies', 'adopt', 'metaverse', 'healthcare', 'potential', 'applications', 'related', 'projects', 'the', 'issues', 'adaptation', 'metaverse', 'healthcare', 'applications', 'also', 'identified', 'plausible', 'solutions', 'highlighted', 'part', 'future', 'research', 'directions'], ['as', 'time', 'goes', 'number', 'people', 'use', 'information', 'communication', 'technology', 'ict', 'grows', 'emerging', 'technologies', 'receiving', 'lot', 'attention', 'academics', 'researchers', 'users', 'emerging', 'technologies', 'changing', 'quickly', 'ever', 'important', 'start', 'building', 'skills', 'early', 'education', 'using', 'right', 'examples', 'teach', 'learn', 'digital', 'citizenship', 'new', 'pedagogies', 'support', 'individual', 'teaching', 'learning', 'methodologies', 'knowledge', 'acquisition', 'selfdirected', 'learning', 'hundreds', 'digital', 'education', 'tools', 'developed', 'increase', 'student', 'autonomy', 'enhance', 'academic', 'process', 'management', 'promote', 'collaboration', 'improve', 'communication', 'teachers', 'students', 'this', 'article', 'examines', 'current', 'state', 'emerging', 'technologies', 'variety', 'educational', 'viewpoints', 'highlights', 'them', 'discusses', 'established', 'potential', 'educational', 'benefits', 'additionally', 'offers', 'indepth', 'debates', 'recent', 'developments', 'future', 'challenges', 'wide', 'range', 'perspectives', 'the', 'analysis', 'focuses', 'peerreviewed', 'research', 'articles', 'published', 'wellrenowned', 'publications', 'databases', 'last', 'years', 'drawing', 'upon', 'bibliometric', 'analysis', 'using', 'vosviewer', 'the', 'results', 'study', 'also', 'anticipated', 'serve', 'substantial', 'impetus', 'universities', 'colleges', 'worldwide', 'utilize', 'innovatively', 'revolutionized', 'technology', 'better', 'academic', 'performance'], ['each', 'section', 'chapter', 'written', 'different', 'author', 'focusing', 'particular', 'challenge', 'opportunity', 'future', 'choosing', 'there', 'various', 'ways', 'sections', 'could', 'organised', 'end', 'left', 'order', 'originally', 'submitted', 'note', 'however', 'sections', 'deal', 'issues', 'around', 'access', 'equity', 'sections', 'cover', 'different', 'kinds', 'learning', 'enabling', 'technology', 'sections', 'offer', 'two', 'aspects', 'issue', 'namely', 'ubiquity', 'information', 'overload'], ['in', 'software', 'engineering', 'education', 'see', 'context', 'virtual', 'worlds', 'used', 'order', 'improve', 'learning', 'outcomes', 'however', 'gap', 'literature', 'order', 'characterize', 'use', 'metaverse', 'see', 'the', 'objective', 'work', 'characterize', 'stateoftheart', 'virtual', 'worlds', 'see', 'provide', 'research', 'opportunities', 'challenges', 'fill', 'limitations', 'found', 'we', 'conducted', 'systematic', 'literature', 'review', 'established', 'research', 'questions', 'guided', 'study', 'well', 'performed', 'data', 'extraction', 'we', 'report', 'primary', 'studies', 'deal', 'mostly', 'immersive', 'experiences', 'see', 'the', 'results', 'show', 'limitations', 'software', 'engineering', 'se', 'topics', 'covered', 'applications', 'simulate', 'environments', 'explore', 'new', 'ways', 'viewing', 'interacting', 'interoperability', 'virtual', 'worlds', 'learning', 'analysis', 'techniques', 'applied', 'biometric', 'data', 'considered', 'validations', 'studies', 'although', 'virtual', 'worlds', 'see', 'results', 'indicate', 'need', 'develop', 'mechanisms', 'order', 'support', 'integration', 'virtual', 'worlds', 'therefore', 'based', 'findings', 'review', 'established', 'set', 'components', 'grouped', 'layers', 'enable', 'metaverse', 'see', 'fundamental', 'requirements', 'we', 'hope', 'work', 'motivate', 'promising', 'research', 'order', 'foster', 'immersive', 'learning', 'experiences', 'se', 'metaverse'], ['metaverse', 'buzz', 'technology', 'moment', 'raising', 'attention', 'academia', 'industry', 'many', 'stakeholders', 'considering', 'extension', 'existing', 'applications', 'metaverse', 'environment', 'usability', 'the', 'healthcare', 'industry', 'gradually', 'making', 'use', 'metaverse', 'improve', 'quality', 'service', 'enhance', 'living', 'conditions', 'in', 'paper', 'focus', 'potential', 'digital', 'antiaging', 'healthcare', 'metaverse', 'environment', 'we', 'show', 'use', 'metaverse', 'environment', 'enhance', 'healthcare', 'service', 'quality', 'increase', 'life', 'expectancy', 'patients', 'confident', 'processes', 'chronic', 'disease', 'management', 'fitness', 'mental', 'health', 'control', 'metaverse', 'the', 'convergence', 'artificial', 'intelligence', 'ai', 'blockchain', 'bc', 'internet', 'things', 'iot', 'immersive', 'technologies', 'digital', 'twin', 'metaverse', 'environment', 'presents', 'new', 'scopes', 'healthcare', 'industry', 'by', 'leveraging', 'technologies', 'healthcare', 'providers', 'improve', 'patient', 'outcomes', 'reduce', 'healthcare', 'costs', 'create', 'new', 'healthcare', 'experiences', 'better', 'life', 'thus', 'facilitating', 'antiaging', 'process', 'ai', 'used', 'analyze', 'largescale', 'medical', 'data', 'make', 'personalized', 'treatment', 'plans', 'blockchain', 'create', 'secure', 'transparent', 'healthcare', 'data', 'ecosystem', 'as', 'iot', 'devices', 'collect', 'realtime', 'data', 'patients', 'necessary', 'treatment', 'together', 'technologies', 'transform', 'healthcare', 'industry', 'improve', 'lives', 'patients', 'worldwide', 'the', 'suggestions', 'highlighted', 'paper', 'worthy', 'undergo', 'implementation', 'create', 'benefits', 'promote', 'digital', 'antiaging', 'process', 'users', 'longer', 'life', 'experience'], ['health', 'behaviors', 'inextricably', 'linked', 'health', 'wellbeing', 'yet', 'issues', 'physical', 'inactivity', 'insufficient', 'sleep', 'remain', 'significant', 'global', 'public', 'health', 'problems', 'mobile', 'technology—and', 'unprecedented', 'scope', 'quantity', 'data', 'generates—has', 'promising', 'largely', 'untapped', 'potential', 'promote', 'health', 'behaviors', 'individual', 'population', 'levels', 'this', 'perspective', 'article', 'provides', 'multidisciplinary', 'recommendations', 'design', 'use', 'mobile', 'technology', 'concomitant', 'wealth', 'data', 'promote', 'behaviors', 'support', 'overall', 'health', 'using', 'physical', 'activity', 'anexemplar', 'health', 'behavior', 'review', 'emerging', 'strategies', 'health', 'behavior', 'change', 'interventions', 'we', 'describe', 'progress', 'personalizing', 'interventions', 'individual', 'social', 'cultural', 'built', 'environments', 'well', 'evaluating', 'relationships', 'mobile', 'technology', 'data', 'health', 'establish', 'evidencebased', 'guidelines', 'in', 'reviewing', 'strategies', 'highlighting', 'directions', 'future', 'research', 'advance', 'use', 'theorybased', 'personalized', 'humancentered', 'approaches', 'promoting', 'health', 'behaviors'], ['immersive', 'virtual', 'reality', 'ivr', 'considered', 'effective', 'efficient', 'instructional', 'tool', 'architecture', 'engineering', 'construction', 'operation', 'facility', 'management', 'aecofm', 'education', 'however', 'essential', 'systematically', 'evaluate', 'obtain', 'consolidated', 'evidence', 'impact', 'ivr', 'applications', 'thus', 'aim', 'article', 'present', 'stateoftheart', 'aecofm', 'use', 'cases', 'including', 'learning', 'theoriesmodels', 'key', 'factors', 'experimental', 'design', 'suggest', 'future', 'directions', 'ivr', 'research', 'this', 'review', 'follows', 'systematic', 'literature', 'review', 'methodology', 'analyze', 'papers', 'the', 'results', 'show', 'learning', 'theoriesmodels', 'sufficiently', 'applied', 'there', 'consensus', 'ivr', 'influences', 'affective', 'factors', 'positively', 'it', 'necessary', 'consider', 'task', 'type', 'task', 'complexity', 'virtual', 'environment', 'design', 'ergonomics', 'ivr', 'tools', 'terms', 'cognitive', 'factors', 'cognitiveaffective', 'factors', 'associated', 'learning', 'performance', 'examined', 'depth', 'develop', 'effective', 'learning', 'methods', 'future', 'studies', 'design', 'conduct', 'experimental', 'procedures', 'scientific', 'rigor'], ['smart', 'technology', 'quickly', 'constantly', 'evolving', 'concept', 'different', 'applications', 'cover', 'wide', 'range', 'areas', 'healthcare', 'education', 'business', 'agriculture', 'manufacturing', 'an', 'effective', 'application', 'technologies', 'increases', 'productivity', 'performance', 'within', 'complex', 'systems', 'on', 'one', 'side', 'trends', 'show', 'lack', 'appeal', 'rural', 'environments', 'people', 'prefer', 'move', 'cities', 'looking', 'better', 'opportunities', 'lifestyles', 'on', 'side', 'recent', 'studies', 'reports', 'show', 'attractiveness', 'rural', 'areas', 'places', 'opportunities', 'increasing', 'sustainable', 'solutions', 'needed', 'enhance', 'development', 'rural', 'context', 'technological', 'innovation', 'expected', 'lead', 'support', 'stability', 'people', 'organizations', 'rural', 'regions', 'while', 'smart', 'city', 'progressively', 'becoming', 'reality', 'successful', 'model', 'integrating', 'smart', 'technology', 'different', 'aspects', 'everyday', 'life', 'effective', 'application', 'rural', 'context', 'according', 'sustainable', 'development', 'approach', 'yet', 'completely', 'defined', 'this', 'study', 'adopts', 'comparative', 'categorial', 'content', 'analysis', 'address', 'different', 'applications', 'specific', 'characteristics', 'rural', 'regions', 'often', 'present', 'significant', 'peculiarities', 'depending', 'country', 'context', 'the', 'main', 'goal', 'investigate', 'discuss', 'smart', 'city', 'model', 'may', 'adopted', 'effectively', 'applied', 'within', 'rural', 'contexts', 'looking', 'major', 'gaps', 'challenges', 'additionally', 'complexity', 'topic', 'provide', 'overview', 'current', 'adoption', 'smart', 'technology', 'different', 'applications', 'rural', 'areas', 'including', 'farming', 'education', 'business', 'healthcare', 'governance', 'the', 'study', 'highlights', 'huge', 'difficulties', 'rural', 'life', 'potentiality', 'smart', 'technology', 'enhance', 'sustainable', 'development', 'still', 'challenging', 'while', 'holistic', 'analysis', 'clearly', 'points', 'gap', 'specific', 'strategic', 'roadmap', 'reuse', 'adapt', 'existing', 'models', 'smart', 'city', 'the', 'study', 'address', 'finegrained', 'indicators'], ['metaverse', 'invading', 'educational', 'sector', 'change', 'humancomputer', 'interaction', 'techniques', 'prominent', 'technology', 'executives', 'developing', 'novel', 'ways', 'turn', 'metaverse', 'learning', 'environment', 'considering', 'rapid', 'growth', 'technology', 'since', 'covid', 'outbreak', 'people', 'grown', 'accustomed', 'teleworking', 'telemedicine', 'numerous', 'forms', 'distance', 'interaction', 'recently', 'metaverse', 'focus', 'many', 'educators', 'with', 'facebook’', 'statement', 'rebranding', 'promoting', 'meta', 'field', 'saw', 'surge', 'interest', 'areas', 'computer', 'science', 'education', 'there', 'literature', 'gap', 'studying', 'metaverse’', 'role', 'education', 'this', 'article', 'systematic', 'review', 'following', 'prisma', 'framework', 'reviews', 'role', 'metaverse', 'education', 'shrink', 'literature', 'gap', 'it', 'presents', 'various', 'educational', 'uses', 'aid', 'future', 'research', 'field', 'additionally', 'demonstrates', 'enabling', 'technologies', 'like', 'extended', 'reality', 'xr', 'internet', 'everything', 'ioe', 'significantly', 'impact', 'educational', 'services', 'metaverses', 'future', 'teaching', 'learning', 'the', 'article', 'also', 'outlines', 'key', 'challenges', 'ethical', 'issues', 'potential', 'threats', 'using', 'metaverse', 'education', 'offer', 'road', 'map', 'future', 'research', 'investigate', 'metaverse', 'improve', 'learning', 'teaching', 'experiences'], ['with', 'advent', 'digital', 'therapeutics', 'dtx', 'development', 'software', 'medical', 'device', 'samd', 'mobile', 'wearable', 'devices', 'gained', 'significant', 'attention', 'recent', 'years', 'existing', 'dtx', 'evaluations', 'randomized', 'clinical', 'trials', 'mostly', 'focus', 'verifying', 'effectiveness', 'dtx', 'products', 'to', 'acquire', 'deeper', 'understanding', 'dtx', 'engagement', 'behavioral', 'adherence', 'beyond', 'efficacy', 'large', 'amount', 'contextual', 'interaction', 'data', 'mobile', 'wearable', 'devices', 'field', 'deployment', 'would', 'required', 'analysis', 'in', 'work', 'overall', 'flow', 'datadriven', 'dtx', 'analytics', 'reviewed', 'help', 'researchers', 'practitioners', 'explore', 'dtx', 'datasets', 'investigate', 'contextual', 'patterns', 'associated', 'dtx', 'usage', 'establish', 'causal', 'relationship', 'dtx', 'engagement', 'behavioral', 'adherence', 'this', 'review', 'key', 'components', 'datadriven', 'analytics', 'provides', 'novel', 'research', 'directions', 'analysis', 'mobile', 'sensor', 'interaction', 'datasets', 'helps', 'iteratively', 'improve', 'receptivity', 'existing', 'dtx'], ['one', 'modern', 'technologies', 'promise', 'metaverse', 'according', 'technologists', 'many', 'discussions', 'opportunities', 'challenges', 'metaverse', 'higher', 'education', 'metaverse', 'defined', 'many', 'educationists', 'next', 'generation', 'internetbased', 'education', 'since', 'creation', 'metaverse', 'viewed', 'shared', 'virtual', 'area', 'simulations', 'may', 'work', 'together', 'users', 'may', 'produce', 'material', 'engage', 'interactive', 'experiences', 'fully', 'immersive', 'permanent', 'metaverse', 'educational', 'metaverse', 'performs', 'four', 'distinctive', 'classes', 'ie', 'avatars', 'arvrmr', 'ai', 'lifelogging', 'higher', 'education', 'students', 'may', 'chance', 'practice', 'different', 'skills', 'metaverse', 'placed', 'intellectual', 'competencepracticing', 'environment', 'encouraged', 'develop', 'learn', 'things', 'unable', 'real', 'world', 'able', 'collaborate', 'communicate', 'students', 'virtual', 'world', 'immersive', 'learning', 'experiences', 'personalized', 'learning', 'augmented', 'collaboration', 'enhanced', 'accessibility', 'benefits', 'using', 'metaverse', 'higher', 'education', 'whereas', 'challenges', 'educational', 'metaverse', 'higher', 'education', 'include', 'regarding', 'nature', 'immersive', 'learning', 'experiences', 'quality', 'teachinglearning', 'content', 'virtual', 'immersive', 'environment', 'interface', 'interaction', 'challenges', 'regarding', 'security', 'privacy', 'users', 'data', 'hardware', 'software', 'students', 'provided', 'unique', 'valuable', 'learning', 'experiences', 'prepare', 'opportunities', 'challenges', 'future', 'utilizing', 'cuttingedge', 'technology', 'metaverse', 'higher', 'education'], ['serious', 'games', 'increasingly', 'popular', 'multiple', 'fields', 'including', 'education', 'environmental', 'engagement', 'we', 'conducted', 'systematic', 'review', 'examine', 'reasons', 'increasing', 'popularity', 'features', 'successful', 'serious', 'games', 'current', 'trend', 'serious', 'games', 'application', 'environmental', 'education', 'our', 'systematic', 'search', 'revealed', 'records', 'papers', 'from', 'years', 'use', 'serious', 'games', 'environmental', 'education', 'thirtyfive', 'published', 'recent', 'years', 'reflecting', 'growing', 'interest', 'area', 'the', 'games', 'aimed', 'imparting', 'knowledge', 'changing', 'attitude', 'changing', 'behaviour', 'reasons', 'increased', 'application', 'serious', 'games', 'include', 'raising', 'awareness', 'serious', 'games', 'growing', 'investment', 'serious', 'games', 'development', 'research', 'well', 'better', 'technological', 'access', 'mobile', 'devices', 'successful', 'serious', 'games', 'exhibit', 'following', 'features', 'immersive', 'experience', 'meaningful', 'engagement', 'learnbydoing', 'involvement', 'simulation', 'realworld', 'environmental', 'problems', 'autonomy', 'game', 'decisions', 'presence', 'guiding', 'host', 'this', 'review', 'also', 'revealed', 'two', 'categories', 'digital', 'serious', 'games', 'computer', 'games', 'mobile', 'apps', 'three', 'categories', 'physical', 'games', 'board', 'games', 'card', 'game', 'roleplaying', 'games', 'the', 'gaps', 'include', 'lack', 'ingame', 'experience', 'data', 'limits', 'understanding', 'impacts', 'commercial', 'games', 'variation', 'game', 'experience', 'conservation', 'experience', 'among', 'participants', 'translates', 'impacts', 'serious', 'games', 'lack', 'understanding', 'effects', 'serious', 'games', 'high', 'complexities', 'adults', 'learning', 'serious', 'games', 'increasingly', 'digitised', 'moving', 'towards', 'locationbased', 'games', 'alternate', 'reality', 'augmented', 'reality', 'virtual', 'reality', 'these', 'games', 'facilitate', 'interaction', 'learners', 'natural', 'environment', 'turn', 'strengthen', 'environmental', 'awareness', 'appreciation'], ['climate', 'change', 'become', 'major', 'problem', 'humanity', 'last', 'two', 'decades', 'one', 'reasons', 'caused', 'it', 'daily', 'energy', 'waste', 'people', 'consume', 'electricity', 'order', 'use', 'homework', 'appliances', 'devices', 'also', 'reach', 'certain', 'levels', 'comfort', 'working', 'home', 'however', 'even', 'though', 'environmental', 'impact', 'behavior', 'immediately', 'observed', 'leads', 'increased', 'co', 'emissions', 'coming', 'energy', 'generation', 'power', 'plants', 'it', 'shown', 'emissions', 'come', 'electricity', 'consumption', 'also', 'percentage', 'could', 'saved', 'started', 'using', 'energy', 'efficiently', 'confronting', 'problem', 'efficiently', 'affect', 'environment', 'society', 'monitoring', 'energy', 'consumption', 'realtime', 'changing', 'energy', 'wastage', 'behavior', 'occupants', 'using', 'automations', 'incorporated', 'energy', 'savings', 'scenarios', 'ways', 'decrease', 'global', 'energy', 'footprint', 'in', 'review', 'study', 'intelligent', 'systems', 'energy', 'management', 'residential', 'commercial', 'educational', 'buildings', 'classifying', 'two', 'major', 'categories', 'depending', 'whether', 'provide', 'direct', 'indirect', 'control', 'the', 'article', 'also', 'discusses', 'strengths', 'weaknesses', 'are', 'optimization', 'techniques', 'use', 'finally', 'provide', 'insights', 'systems', 'improved', 'future'], ['this', 'literature', 'review', 'surveys', 'extant', 'research', 'october', 'three', 'key', 'conferences', 'related', 'software', 'engineering', 'repository', 'mining', 'mining', 'software', 'repositories', 'msr', 'international', 'conference', 'software', 'engineering', 'icse', 'international', 'conference', 'software', 'maintenance', 'evolution', 'icsme', 'the', 'review', 'taxonifies', 'hundreds', 'research', 'papers', 'provides', 'summary', 'analysis', 'noteworthy', 'papers', 'related', 'code', 'writing', 'refactoring', 'code', 'comprehension', 'smells', 'code', 'quality', 'aspects', 'software', 'development', 'related', 'entire', 'software', 'project', 'human', 'dynamics', 'within', 'project', 'the', 'review', 'also', 'explores', 'cross', 'cutting', 'themes', 'among', 'topics', 'bots', 'machine', 'learning', 'influence', 'different', 'environments', '–', 'free', 'open', 'source', 'projects', 'vs', 'start', 'ups', 'vs', 'established', 'industry', '–', 'development', 'process', 'underlying', 'work', 'eye', 'research', 'applicable', 'advanced', 'scientific', 'computing', 'space', 'which', 'united', 'states', 'often', 'performed', 'national', 'laboratories'], ['big', 'data', 'bd', 'making', 'advances', 'promoting', 'sustainable', 'consumption', 'behaviour', 'attracted', 'attention', 'researchers', 'worldwide', 'despite', 'increased', 'focus', 'findings', 'studies', 'topic', 'fragmented', 'future', 'researchers', 'need', 'systematic', 'understanding', 'existing', 'literature', 'identification', 'research', 'scope', 'this', 'study', 'offers', 'systematic', 'review', 'role', 'bd', 'promoting', 'sustainableconsumption', 'behaviour', 'help', 'bibliometric', 'analysis', 'followed', 'thematic', 'analysis', 'the', 'findings', 'suggest', 'businesses', 'deploy', 'bd', 'create', 'sustainable', 'consumer', 'experiences', 'predict', 'consumer', 'buying', 'patterns', 'design', 'alter', 'business', 'models', 'create', 'nudges', 'sustainable', 'consumption', 'consumers', 'forcing', 'businesses', 'develop', 'green', 'operations', 'supply', 'chains', 'reduce', 'latter’', 'carbon', 'footprint', 'the', 'major', 'research', 'gaps', 'future', 'researchers', 'following', 'areas', 'impact', 'big', 'data', 'analytics', 'bda', 'consumerism', 'role', 'bd', 'formation', 'sustainable', 'habits', 'consumer', 'knowledge', 'creation', 'sustainable', 'consumption', 'prediction', 'green', 'consumer', 'behaviour'], ['several', 'works', 'literature', 'contributed', 'web', 'evaluation', 'process', 'recent', 'years', 'promote', 'digital', 'inclusion', 'addressing', 'several', 'accessibility', 'guidelines', 'methods', 'processes', 'techniques', 'researchers', 'investigated', 'web', 'evaluation', 'process', 'could', 'facilitated', 'including', 'accessibility', 'issues', 'obtain', 'inclusive', 'accessible', 'solution', 'improve', 'user', 'experience', 'increase', 'user', 'satisfaction', 'three', 'systematic', 'literature', 'reviews', 'slrs', 'conducted', 'context', 'past', 'research', 'considering', 'research', 'focuses', 'this', 'paper', 'presents', 'new', 'slr', 'approach', 'concerning', 'accessibility', 'web', 'evaluation', 'process', 'considering', 'period', 'the', 'review', 'primary', 'studies', 'showed', 'contribution', 'publications', 'different', 'phases', 'web', 'evaluation', 'process', 'mainly', 'highlighting', 'significant', 'studies', 'framework', 'design', 'testing', 'process', 'to', 'best', 'knowledge', 'first', 'study', 'focused', 'web', 'accessibility', 'literature', 'reporting', 'engineering', 'assets', 'evaluation', 'new', 'accessible', 'inclusive', 'webbased', 'solutions', 'eg', 'websites', 'besides', 'study', 'aim', 'provide', 'new', 'direction', 'web', 'designers', 'developers', 'updated', 'view', 'process', 'methods', 'techniques', 'tools', 'crucial', 'aspects', 'contribute', 'accessible', 'process', 'enrichment', 'well', 'depict', 'gaps', 'challenges', 'may', 'worthy', 'investigated', 'future', 'the', 'findings', 'slr', 'introduce', 'new', 'dimension', 'web', 'accessibility', 'research', 'determining', 'mitigating', 'research', 'gap', 'web', 'accessibility', 'issues', 'web', 'designers', 'developers', 'practitioners'], ['through', 'scoping', 'review', 'nonmedical', 'professionals', 'policy', 'makers', 'visualize', 'better', 'understand', 'hrss', 'future', 'studies', 'the', 'health', 'care', 'professionals', 'end', 'users', 'encouraged', 'participate', 'future', 'design', 'development', 'hrss', 'optimize', 'utility', 'successful', 'implementation', 'detailed', 'evaluations', 'hrss', 'usercentered', 'approach', 'needed', 'future', 'studies'], ['the', 'use', 'onscene', 'decryption', 'categorisation', 'photos', 'taken', 'crime', 'scene', 'primary', 'focuses', 'digital', 'forensics', 'scene', 'crime', 'the', 'method', 'conducting', 'digital', 'forensic', 'investigation', 'focused', 'new', 'forms', 'technology', 'solid', 'state', 'drives', 'well', 'reevaluating', 'digital', 'forensic', 'procedure', 'memory', 'forensics', 'considered', 'increasingly', 'significant', 'particular', 'emphasis', 'placed', 'finding', 'solutions', 'desktop', 'operating', 'systems', 'encryption', 'crash', 'dumps', 'hibernation', 'files', 'debuggers', 'virtualization', 'means', 'hypervisors', 'generate', 'execute', 'virtual', 'computers', 'an', 'examination', 'file', 'systems', 'particular', 'wellknown', 'systems', 'windows', 'well', 'investigation', 'potential', 'future', 'file', 'systems', 'google', 'fuschia', 'distributed', 'file', 'systems', 'the', 'topic', 'antiforensics', 'discussed', 'number', 'works', 'particular', 'attention', 'paid', 'distinction', 'accidental', 'intentional', 'tampering', 'well', 'efficacy', 'erasure', 'techniques', 'within', 'realm', 'devices', 'systems', 'primary', 'concentration', 'cloud', 'forensics', 'placed', 'difficulties', 'associated', 'conducting', 'forensic', 'investigation', 'cloud', 'computing', 'systems', 'outlined', 'nist', 'well', 'various', 'possible', 'solutions', '“forensic', 'design”', 'when', 'comes', 'dealing', 'forensic', 'investigation', 'internet', 'things', 'systems', 'field', 'getting', 'feet', 'wet', 'number', 'authors', 'considered', 'conventional', 'approaches', 'analysis', 'also', 'recent', 'method', 'electromagnetic', 'sidechannel', 'analysis', 'the', 'field', 'digital', 'forensics', 'motor', 'vehicles', 'becoming', 'increasingly', 'significant', 'the', '“internet', 'vehicles', 'ecosystem”', '“digital', 'identification', 'motor', 'vehicles”', '“digital', 'forensic', 'analysis', 'motor', 'vehicle', 'collisions”', 'topics', 'fall', 'category', 'research', 'it', 'mentioned', 'one', 'common', 'tool', 'offered', 'sale', 'market', 'conducting', 'digital', 'forensics', 'motor', 'vehicles', 'apps', 'social', 'media', 'combined', 'subject', 'discussion', 'growing', 'overlap', 'two', 'fields', 'the', 'functionality', 'messaging', 'app', 'vendors', 'evolving', 'encompass', 'larger', 'social', 'media', 'services', 'publishing', 'channels', 'news', 'channels', 'using', 'evidence', 'found', 'social', 'media', 'sites', 'one', 'way', 'behavioural', 'science', 'beginning', 'use', 'digital', 'forensic', 'approaches', 'it', 'discovered', 'criminal', 'profiling', 'sentiment', 'analysis', 'might', 'potentially', 'deduced', 'posts', 'made', 'social', 'media', 'small', 'sample', 'digital', 'evidence', 'legal', 'proceedings', 'cybercrime', 'data', 'governance', 'issues', 'occupying', 'minds', 'justice', 'system', 'political', 'leaders', 'several', 'jurisdictions', 'discussed'], ['appbased', 'mhealth', 'physical', 'activity', 'studies', 'continue', 'underreport', 'several', 'key', 'study', 'characteristics', 'limited', 'pragmatic', 'use', 'generalizability', 'in', 'addition', 'pragmatic', 'interventions', 'observe', 'smaller', 'treatment', 'effects', 'whereas', 'study', 'duration', 'appears', 'unrelated', 'effect', 'size', 'future', 'appbased', 'studies', 'comprehensively', 'report', 'realworld', 'applicability', 'pragmatic', 'approaches', 'needed', 'maximal', 'population', 'health', 'impacts'], ['road', 'safety', 'increasingly', 'threatened', 'distracted', 'driving', 'studies', 'shown', 'significantly', 'increased', 'risk', 'driver', 'involved', 'car', 'crash', 'due', 'visual', 'distractions', 'not', 'watching', 'road', 'manual', 'distractions', 'hands', 'wheel', 'nondriving', 'activities', 'cognitive', 'acoustic', 'distractions', 'the', 'driver', 'focused', 'driving', 'task', 'driving', 'simulators', 'dss', 'powerful', 'tools', 'identifying', 'drivers’', 'responses', 'different', 'distracting', 'factors', 'safe', 'manner', 'this', 'paper', 'aims', 'systematically', 'review', 'simulatorbased', 'studies', 'investigate', 'types', 'distractions', 'introduced', 'using', 'phone', 'texting', 'driving', 'twd', 'hardware', 'measures', 'used', 'analyze', 'distraction', 'impact', 'using', 'mobile', 'devices', 'read', 'write', 'messages', 'driving', 'driving', 'performance', 'the', 'review', 'followed', 'preferred', 'reporting', 'items', 'systematic', 'reviews', 'metaanalysis', 'extension', 'scoping', 'reviews', 'prismascr', 'guidelines', 'total', 'studies', 'identified', 'database', 'search', 'included', 'review', 'analyzed', 'order', 'respond', 'four', 'research', 'questions', 'the', 'main', 'findings', 'revealed', 'twd', 'distraction', 'negative', 'effects', 'driving', 'performance', 'affecting', 'drivers’', 'divided', 'attention', 'concentration', 'lead', 'potentially', 'lifethreatening', 'traffic', 'events', 'we', 'also', 'provide', 'several', 'recommendations', 'driving', 'simulators', 'ensure', 'high', 'reliability', 'validity', 'experiments', 'this', 'review', 'serve', 'basis', 'regulators', 'interested', 'parties', 'propose', 'restrictions', 'related', 'using', 'mobile', 'phones', 'vehicle', 'improve', 'road', 'safety'], ['this', 'systematic', 'scoping', 'review', 'provides', 'unique', 'overview', 'ehealth', 'pediatric', 'asthma', 'monitoring', 'studies', 'revealed', 'ehealth', 'research', 'takes', 'place', 'throughout', 'different', 'monitoring', 'domains', 'using', 'different', 'approaches', 'the', 'outcomes', 'review', 'showed', 'potency', 'efficacy', 'monitoring', 'domains', 'future', 'studies', 'could', 'focus', 'combining', 'home', 'monitoring', 'domains', 'facilitate', 'multiparameter', 'decision', 'making', 'personalized', 'clinical', 'decision', 'support'], ['manufacturing', 'industries', 'currently', 'experiencing', 'fourth', 'industrial', 'revolution', 'rapid', 'advancements', 'immersive', 'technologies', 'human–machine', 'interaction', 'hmi', 'flexible', 'manufacturing', 'systems', 'fms', 'product', 'variance', 'limited', 'due', 'barriers', 'knowledge', 'transfer', 'stakeholders', 'existed', 'pre', 'postmanufacturing', 'phases', 'augmented', 'reality', 'ar', 'promising', 'technology', 'offer', 'high', 'degree', 'adaptability', 'independence', 'support', 'knowledge', 'transfer', 'crucial', 'manufacturing', 'stages', 'assembly', 'repair', 'maintenance', 'this', 'article', 'focused', 'presenting', 'state', 'art', 'literature', 'ar', 'technologies', 'product', 'assembly', 'disassembly', 'maintenancerepair', 'perspective', 'the', 'working', 'various', 'modules', 'ar', 'technology', 'facilitating', 'userfriendly', 'guiding', 'platform', 'applications', 'discussed', 'suitable', 'illustrations', 'the', 'critical', 'difficulties', 'tracking', 'rendering', 'techniques', 'estimating', 'human', 'movement', 'environment', 'experiences', 'observed', 'extend', 'adaptability', 'technology', 'future', 'research', 'potential', 'enhancing', 'virtual', 'interface', 'reality', 'identifying', 'worker', 'behaviours', 'enabling', 'sharing', 'collaboration', 'multiple', 'streams', 'industrial', 'context', 'analyzed']]\n"
          ]
        }
      ],
      "source": [
        "text = df_new['Abstract(s)']\n",
        "text_list =  [i.split() for i in text]\n",
        "#text_list =  [i for i in text]\n",
        "print(len(text_list))\n",
        "print(text_list)"
      ]
    },
    {
      "cell_type": "code",
      "execution_count": null,
      "metadata": {
        "id": "GjjpNNG6y9Gz",
        "vscode": {
          "languageId": "python"
        }
      },
      "outputs": [],
      "source": [
        "#di twitter, yg, dn, sy, -- > masukkan di stopwords, sastrawi buat stopwords "
      ]
    },
    {
      "cell_type": "code",
      "execution_count": null,
      "metadata": {
        "id": "pYW0PR2c_S08",
        "vscode": {
          "languageId": "python"
        }
      },
      "outputs": [],
      "source": [
        "#normalisasi : --> yg, dn, sy, dll. "
      ]
    },
    {
      "cell_type": "code",
      "execution_count": null,
      "metadata": {
        "id": "RPsDlHwscyGf",
        "vscode": {
          "languageId": "python"
        }
      },
      "outputs": [],
      "source": [
        "#https://yunusmuhammad007.medium.com/text-preprocessing-menggunakan-pandas-nltk-dan-sastrawi-untuk-large-dataset-5fb3c0a88571"
      ]
    },
    {
      "cell_type": "code",
      "execution_count": null,
      "metadata": {
        "colab": {
          "base_uri": "https://localhost:8080/"
        },
        "id": "Z4Y-nzFZdmOz",
        "outputId": "9b8afa4e-0686-4340-b8a4-a1376d4cf424",
        "vscode": {
          "languageId": "python"
        }
      },
      "outputs": [
        {
          "name": "stdout",
          "output_type": "stream",
          "text": [
            "Frequency Tokens : \n",
            "\n"
          ]
        },
        {
          "data": {
            "text/plain": [
              "0    [(e, 149), ( , 127), (n, 111), (s, 108), (i, 9...\n",
              "1    [( , 165), (e, 163), (i, 125), (a, 104), (n, 9...\n",
              "2    [(e, 69), ( , 65), (a, 43), (i, 42), (s, 42), ...\n",
              "3    [( , 48), (e, 44), (s, 26), (r, 22), (i, 21), ...\n",
              "4    [(e, 142), ( , 115), (t, 90), (i, 87), (a, 81)...\n",
              "Name: Abstract(s), dtype: object"
            ]
          },
          "execution_count": 19,
          "metadata": {},
          "output_type": "execute_result"
        }
      ],
      "source": [
        "#masi salah hasil frekuensi nya\n",
        "# NLTK calc frequency distribution\n",
        "from nltk.probability import FreqDist\n",
        "def freqDist_wrapper(text):\n",
        "    return FreqDist(text)\n",
        "\n",
        "df_new['Abstract(s)'] = df_new['Abstract(s)'].apply(freqDist_wrapper)\n",
        "\n",
        "print('Frequency Tokens : \\n') \n",
        "df_new['Abstract(s)'].head().apply(lambda x : x.most_common())"
      ]
    },
    {
      "cell_type": "code",
      "execution_count": null,
      "metadata": {
        "id": "f6UZW6rkR9n1",
        "vscode": {
          "languageId": "python"
        }
      },
      "outputs": [],
      "source": [
        "#stringdata=' '.join([str(item) for item in text_list])\n",
        "#print(stringdata)"
      ]
    },
    {
      "cell_type": "code",
      "execution_count": null,
      "metadata": {
        "id": "QP36Ft_4RxFY",
        "vscode": {
          "languageId": "python"
        }
      },
      "outputs": [],
      "source": [
        "#pip install Sastrawi"
      ]
    },
    {
      "cell_type": "code",
      "execution_count": null,
      "metadata": {
        "id": "ewBZk5pLR3PV",
        "vscode": {
          "languageId": "python"
        }
      },
      "outputs": [],
      "source": [
        "# import StemmerFactory class\n",
        "#from Sastrawi.Stemmer.StemmerFactory import StemmerFactory\n",
        "# create stemmer\n",
        "#factory = StemmerFactory()\n",
        "#stemmer = factory.create_stemmer()\n",
        "# stemming process\n",
        "#sentence = 'Perekonomian Indonesia sedang dalam pertumbuhan yang membanggakan'\n",
        "#output   = stemmer.stem(stringdata)\n",
        "#print(output)"
      ]
    },
    {
      "cell_type": "code",
      "execution_count": null,
      "metadata": {
        "id": "IE9Z1ZFUX4WA",
        "vscode": {
          "languageId": "python"
        }
      },
      "outputs": [],
      "source": [
        "# Python code to convert string to list\n",
        "#def Convert(string):\n",
        "#    li = list(string.split(\"-\"))\n",
        "#    return li\n",
        "  \n",
        "# Driver code \n",
        "#list_text =  Convert(output)  \n",
        "#print(list_text)"
      ]
    },
    {
      "cell_type": "code",
      "execution_count": null,
      "metadata": {
        "id": "tk7H4eLcTQqF",
        "vscode": {
          "languageId": "python"
        }
      },
      "outputs": [],
      "source": [
        "#text_list =  [i.split() for i in list_text]"
      ]
    },
    {
      "cell_type": "code",
      "execution_count": null,
      "metadata": {
        "id": "P9trZzt5W76t",
        "vscode": {
          "languageId": "python"
        }
      },
      "outputs": [],
      "source": [
        "#print(text_list)"
      ]
    },
    {
      "cell_type": "code",
      "execution_count": null,
      "metadata": {
        "id": "RvOXyLfVPk4y",
        "vscode": {
          "languageId": "python"
        }
      },
      "outputs": [],
      "source": [
        "#nltk.download('punkt')"
      ]
    },
    {
      "cell_type": "code",
      "execution_count": null,
      "metadata": {
        "id": "fHH5EmZWfh7Q",
        "vscode": {
          "languageId": "python"
        }
      },
      "outputs": [],
      "source": [
        "#https://sites.unpad.ac.id/widodo/2021/03/09/nlp-dengan-python/"
      ]
    },
    {
      "cell_type": "code",
      "execution_count": null,
      "metadata": {
        "id": "qnLvYqUHc5Jj",
        "vscode": {
          "languageId": "python"
        }
      },
      "outputs": [],
      "source": [
        "import gensim\n",
        "#Create Bigram & Trigram Models \n",
        "from gensim.models import Phrases\n",
        "# Add bigrams and trigrams to docs,minimum count 10 means only that appear 10 times or more.\n",
        "bigram = Phrases(text_list, min_count=10)\n",
        "trigram = Phrases(bigram[text_list])\n",
        "for idx in range(len(text_list)):\n",
        "    for token in bigram[text_list[idx]]:\n",
        "        if '_' in token:\n",
        "            # Token is a bigram, add to document.\n",
        "            text_list[idx].append(token)\n",
        "    for token in trigram[text_list[idx]]:\n",
        "        if '_' in token:\n",
        "            # Token is a bigram, add to document.\n",
        "            text_list[idx].append(token)"
      ]
    },
    {
      "cell_type": "code",
      "execution_count": null,
      "metadata": {
        "colab": {
          "base_uri": "https://localhost:8080/"
        },
        "id": "uo1q_qD6agaH",
        "outputId": "214ceecc-815e-418d-9b70-be00555651cd",
        "vscode": {
          "languageId": "python"
        }
      },
      "outputs": [
        {
          "name": "stdout",
          "output_type": "stream",
          "text": [
            "[['we', 'implemented', 'systematic', 'literature', 'review', 'investigate', 'trends', 'issues', 'learning', 'analytics', 'seamless', 'learning', 'environments', 'we', 'collected', 'analyzed', 'total', 'empirical', 'journal', 'articles', 'study', 'discuss', 'learning', 'analytics', 'design', 'implementation', 'seamless', 'learning', 'environments', 'in', 'recent', 'decade', 'researchers', 'explored', 'various', 'seamless', 'learning', 'environments', 'supporting', 'students’', 'inquirybased', 'experiential', 'learning', 'seamless', 'learning', 'aims', 'engage', 'students', 'develop', 'elaborate', 'apply', 'knowledge', 'various', 'inquirybased', 'learning', 'contexts', 'with', 'significance', 'formative', 'assessment', 'digital', 'learning', 'environments', 'integrating', 'learning', 'analytics', 'seamless', 'learning', 'environments', 'increasingly', 'evolved', 'trace', 'assess', 'student', 'learning', 'despite', 'various', 'uses', 'learning', 'analytics', 'seamless', 'learning', 'lack', 'comprehensive', 'reviews', 'illustrate', 'learning', 'analytics', 'integrated', 'seamless', 'learning', 'this', 'literature', 'synthesis', 'decomposes', 'collected', 'journal', 'articles', 'understand', 'learning', 'analytics', 'design', 'integrations', 'inherent', 'seamless', 'learning', 'environments', 'also', 'using', 'qualitative', 'thematic', 'analysis', 'systematic', 'literature', 'review', 'demonstrates', 'various', 'design', 'practices', 'future', 'research', 'directions', 'learning', 'analytics', 'seamless', 'learning', 'environments', 'learning_analytics', 'learning_analytics', 'learning_analytics', 'learning_analytics', 'learning_analytics', 'learning_analytics', 'learning_analytics', 'systematic_literature', 'learning_analytics', 'seamless_learning', 'learning_analytics', 'seamless_learning', 'seamless_learning', 'seamless_learning', 'digital_learning', 'learning_analytics', 'seamless_learning', 'learning_analytics', 'seamless_learning', 'learning_analytics', 'seamless_learning', 'learning_analytics', 'seamless_learning', 'systematic_literature', 'future_research', 'learning_analytics', 'seamless_learning', 'learning_analytics', 'learning_analytics', 'learning_analytics', 'learning_analytics', 'learning_analytics', 'learning_analytics', 'learning_analytics'], ['artificial', 'intelligence', 'ai', 'techniques', 'deep', 'learning', 'revolutionized', 'disease', 'diagnosis', 'outstanding', 'image', 'classification', 'performance', 'in', 'spite', 'outstanding', 'results', 'widespread', 'adoption', 'techniques', 'clinical', 'practice', 'still', 'taking', 'place', 'moderate', 'pace', 'one', 'major', 'hindrance', 'trained', 'deep', 'neural', 'networks', 'dnn', 'model', 'provides', 'prediction', 'questions', 'prediction', 'made', 'remain', 'unanswered', 'this', 'linkage', 'utmost', 'importance', 'regulated', 'healthcare', 'domain', 'increase', 'trust', 'automated', 'diagnosis', 'system', 'practitioners', 'patients', 'stakeholders', 'the', 'application', 'deep', 'learning', 'medical', 'imaging', 'interpreted', 'caution', 'due', 'health', 'safety', 'concerns', 'similar', 'blame', 'attribution', 'case', 'accident', 'involving', 'autonomous', 'cars', 'the', 'consequences', 'false', 'positive', 'false', 'negative', 'cases', 'far', 'reaching', 'patients', 'welfare', 'cannot', 'ignored', 'this', 'exacerbated', 'fact', 'stateoftheart', 'deep', 'learning', 'algorithms', 'comprise', 'complex', 'interconnected', 'structures', 'millions', 'parameters', '‘black', 'box’', 'nature', 'offering', 'little', 'understanding', 'inner', 'working', 'unlike', 'traditional', 'machine', 'learning', 'algorithms', 'explainable', 'ai', 'xai', 'techniques', 'help', 'understand', 'model', 'predictions', 'help', 'develop', 'trust', 'system', 'accelerate', 'disease', 'diagnosis', 'meet', 'adherence', 'regulatory', 'requirements', 'this', 'survey', 'provides', 'comprehensive', 'review', 'promising', 'field', 'xai', 'biomedical', 'imaging', 'diagnostics', 'we', 'also', 'provide', 'categorization', 'xai', 'techniques', 'discuss', 'open', 'challenges', 'provide', 'future', 'directions', 'xai', 'would', 'interest', 'clinicians', 'regulators', 'model', 'developers', 'artificial_intelligence'], ['mining', 'sensor', 'data', 'offers', 'great', 'opportunities', 'analyze', 'physical', 'activity', 'behavior', 'changes', 'build', 'models', 'better', 'detect', 'interpret', 'behavior', 'changes', 'allow', 'personalized', 'feedback', 'support', 'participants', 'especially', 'larger', 'sample', 'sizes', 'longer', 'recording', 'times', 'available', 'exploring', 'different', 'data', 'aggregation', 'levels', 'help', 'detect', 'subtle', 'sustained', 'behavior', 'changes', 'however', 'literature', 'suggests', 'still', 'work', 'remaining', 'improve', 'transparency', 'explicitness', 'standardization', 'data', 'preprocessing', 'mining', 'processes', 'establish', 'best', 'practices', 'make', 'detection', 'methods', 'easier', 'understand', 'scrutinize', 'reproduce'], ['we', 'identified', 'gaps', 'components', 'la', 'life', 'cycle', 'lack', 'iterative', 'approach', 'designing', 'courses', 'health', 'care', 'professions', 'prevalent', 'we', 'identified', 'instance', 'authors', 'used', 'knowledge', 'previous', 'course', 'improve', 'next', 'course', 'only', 'studies', 'reported', 'la', 'used', 'detect', 'atrisk', 'students', 'course’', 'run', 'compared', 'overwhelming', 'majority', 'studies', 'data', 'analysis', 'performed', 'course', 'completed'], ['the', 'rapid', 'progress', 'digitalization', 'automation', 'led', 'accelerated', 'growth', 'healthcare', 'generating', 'novel', 'models', 'creating', 'new', 'channels', 'rendering', 'treatment', 'reduced', 'cost', 'the', 'metaverse', 'emerging', 'technology', 'digital', 'space', 'huge', 'potential', 'healthcare', 'enabling', 'realistic', 'experiences', 'patients', 'well', 'medical', 'practitioners', 'the', 'metaverse', 'confluence', 'multiple', 'enabling', 'technologies', 'artificial', 'intelligence', 'virtual', 'reality', 'augmented', 'reality', 'internet', 'medical', 'devices', 'robotics', 'quantum', 'computing', 'etc', 'new', 'directions', 'providing', 'quality', 'healthcare', 'treatment', 'services', 'explored', 'the', 'amalgamation', 'technologies', 'ensures', 'immersive', 'intimate', 'personalized', 'patient', 'care', 'it', 'also', 'provides', 'adaptive', 'intelligent', 'solutions', 'eliminates', 'barriers', 'healthcare', 'providers', 'receivers', 'this', 'article', 'provides', 'comprehensive', 'review', 'metaverse', 'healthcare', 'emphasizing', 'state', 'art', 'enabling', 'technologies', 'adopt', 'metaverse', 'healthcare', 'potential', 'applications', 'related', 'projects', 'the', 'issues', 'adaptation', 'metaverse', 'healthcare', 'applications', 'also', 'identified', 'plausible', 'solutions', 'highlighted', 'part', 'future', 'research', 'directions', 'artificial_intelligence', 'future_research'], ['learning', 'analytics', 'la', 'significant', 'field', 'study', 'examine', 'identify', 'difficulties', 'novice', 'programmers', 'face', 'learning', 'program', 'despite', 'producing', 'notable', 'research', 'community', 'specified', 'area', 'rare', 'work', 'observed', 'synthesize', 'research', 'efforts', 'discover', 'dimensions', 'guide', 'future', 'research', 'learning', 'analytics', 'programming', 'courses', 'lapc', 'this', 'work', 'demonstrates', 'review', 'learning', 'analytics', 'research', 'initial', 'level', 'programming', 'courses', 'exploring', 'different', 'types', 'sources', 'data', 'used', 'la', 'evaluating', 'pertinent', 'facets', 'reporting', 'prediction', 'intervention', 'refinements', 'exhibited', 'literature', 'based', 'reviewed', 'aspects', 'taxonomy', 'lapc', 'research', 'proposed', 'along', 'associated', 'benefits', 'the', 'results', 'reveal', 'learning', 'analytics', 'studies', 'programming', 'courses', 'used', 'assessment', 'data', 'generated', 'conventional', 'assessment', 'processes', 'however', 'analysis', 'based', 'granular', 'level', 'data', 'covering', 'cognitive', 'dimensions', 'concept', 'specific', 'facets', 'could', 'improve', 'accuracies', 'reveal', 'precise', 'aspects', 'learning', 'in', 'addition', 'coding', 'analysis', 'parameters', 'broadly', 'categorized', 'code', 'quality', 'coding', 'process', 'these', 'categories', 'classified', 'present', 'twentyfive', 'subcategories', 'coding', 'parameters', 'analyzing', 'behaviors', 'novice', 'programmers', 'moreover', 'efforts', 'required', 'early', 'identification', 'effective', 'ineffective', 'behavioral', 'patterns', 'performance', 'predictions', 'order', 'deliver', 'timely', 'interventions', 'lastly', 'review', 'emphasizes', 'integration', 'related', 'processes', 'optimize', 'future', 'research', 'efforts', 'conducting', 'learning', 'analytics', 'research', 'programming', 'courses', 'learning_analytics', 'learning_analytics', 'learning_analytics', 'learning_analytics', 'learning_analytics', 'learning_analytics', 'future_research', 'learning_analytics', 'learning_analytics', 'learning_analytics', 'future_research', 'learning_analytics', 'learning_analytics', 'learning_analytics', 'learning_analytics', 'learning_analytics', 'learning_analytics'], ['sentiment', 'analysis', 'sa', 'technique', 'based', 'applying', 'artificial', 'intelligence', 'analyze', 'textual', 'data', 'natural', 'language', 'help', 'characterize', 'interactions', 'students', 'teachers', 'improve', 'learning', 'timely', 'personalized', 'feedback', 'use', 'education', 'still', 'scarce', 'this', 'systematic', 'literature', 'review', 'explores', 'sa', 'applied', 'learning', 'assessment', 'online', 'hybrid', 'learning', 'contexts', 'higher', 'education', 'findings', 'review', 'show', 'growing', 'field', 'research', 'sa', 'although', 'papers', 'written', 'technical', 'perspective', 'published', 'journals', 'related', 'digital', 'technologies', 'even', 'though', 'solutions', 'involving', 'different', 'sa', 'techniques', 'help', 'predicting', 'learning', 'performance', 'enhancing', 'feedback', 'giving', 'teachers', 'visual', 'tools', 'educational', 'applications', 'usability', 'still', 'limited', 'the', 'analysis', 'evidence', 'inclusion', 'variables', 'affect', 'participants’', 'different', 'sentiment', 'expression', 'gender', 'cultural', 'context', 'remains', 'understudied', 'need', 'considered', 'future', 'developments', 'artificial_intelligence', 'systematic_literature', 'higher_education'], ['residential', 'energy', 'feedback', 'providing', 'personalized', 'information', 'household', 'energy', 'use', 'consumers', 'encourage', 'energy', 'savings', 'this', 'paper', 'conducts', 'review', 'fieldbased', 'studies', 'evaluated', 'impact', 'energy', 'feedback', 'residential', 'energy', 'consumption', 'the', 'review', 'includes', 'studies', 'real', 'occupied', 'homes', 'deployed', 'feedback', 'interventions', 'measured', 'energy', 'savings', 'our', 'study', 'builds', 'taxonomy', 'energy', 'feedback', 'based', 'different', 'characteristics', 'feedback', 'frequency', 'type', 'presentation', 'style', 'methods', 'access', 'energy', 'savings', 'similar', 'feedback', 'types', 'found', 'differ', 'depending', 'study', 'conducted', 'the', 'reviewed', 'studies', 'deployed', 'range', 'feedback', 'information', 'including', 'energy', 'units', 'energy', 'cost', 'tailored', 'information', 'conducted', 'across', 'diverse', 'audiences', 'ethnicity', 'geographical', 'positioning', 'varying', 'experimental', 'types', 'longitudinal', 'randomized', 'control', 'trial', 'and', 'size', 'duration', 'studies', 'the', 'duration', 'studies', 'varied', 'widely', 'ranging', 'one', 'month', 'three', 'years', 'demonstrated', 'energy', 'savings', 'while', 'studies', 'achieved', 'energy', 'savings', 'due', 'energy', 'feedback', 'reported', 'increase', 'energy', 'consumption', 'could', 'due', 'rebound', 'effect', 'most', 'studies', 'literature', 'adopted', 'longitudinal', 'design', 'current', 'household', 'energy', 'consumption', 'compared', 'past', 'consumption', 'arrive', 'savings', 'others', 'used', 'randomized', 'control', 'trial', 'rct', 'design', 'energy', 'consumption', 'intervention', 'group', 'compared', 'control', 'group', 'most', 'studies', 'conducted', 'developed', 'countries', 'cold', 'climates', 'there', 'fewer', 'studies', 'done', 'largescale', 'residential', 'energy', 'feedback', 'especially', 'emerging', 'economies', 'rise', 'air', 'conditioning', 'use', 'we', 'propose', 'future', 'studies', 'also', 'consider', 'human', 'behavior', 'cultural', 'influences', 'evaluating', 'impact', 'energy', 'feedback', 'our', 'recommendation', 'academic', 'policy', 'community', 'address', 'gap', 'since', 'energy', 'feedback', 'likely', 'stimulate', 'positive', 'behavior', 'change', 'amongst', 'householders', 'leading', 'energy', 'savings', 'energy_feedback', 'energy_savings', 'energy_feedback', 'energy_savings', 'energy_feedback', 'energy_savings', 'energy_savings', 'energy_savings', 'energy_feedback', 'energy_feedback', 'energy_feedback', 'energy_feedback', 'energy_savings'], ['the', 'computer', 'vision', 'applications', 'intelligent', 'tutoring', 'systems', 'its', 'enabled', 'use', 'various', 'domains', 'dance', 'sports', 'the', 'adaptation', 'tutoring', 'system', 'based', 'analysis', 'hand', 'gestures', 'body', 'postures', 'movement', 'all', 'termed', 'gross', 'body', 'movements', 'gbm', 'the', 'use', 'intelligent', 'tutoring', 'systems', 'termed', 'gbmits', 'article', 'there', 'survey', 'paper', 'considers', 'use', 'gbmits', 'different', 'domains', 'systematic', 'process', 'followed', 'address', 'six', 'review', 'questions', 'rqs', 'considering', 'articles', 'published', 'brief', 'discussion', 'regarding', 'methods', 'adopted', 'analysis', 'performance', 'metrics', 'used', 'evaluation', 'made', 'the', 'use', 'devices', 'purpose', 'study', 'analyzed', 'need', 'use', 'the', 'feedback', 'mechanisms', 'adopted', 'studies', 'reviewed', 'the', 'information', 'derived', 'survey', 'addressing', 'rqs', 'summarised', 'observations', 'this', 'review', 'results', 'indicate', 'impact', 'gbmitss', 'various', 'domains', 'potential', 'reduce', 'human', 'interventions', 'significantly', 'near', 'future', 'some', 'future', 'directions', 'review', 'results', 'indicated', 'are', 'stateoftheart', 'computer', 'vision', 'methods', 'detection', 'tracking', 'along', 'temporal', 'aspects', 'much', 'explored', 'gbmits', 'current', 'gbmits', 'designed', 'beginners', 'vast', 'scope', 'extend', 'intermediate', 'experts', 'test', 'users', 'considerably', 'less', 'need', 'largescale', 'implementations', 'testing', 'generalizability', 'check', 'robustness', 'importance', 'given', 'privacy', 'ethics', 'gbmits', 'performing', 'better', 'since', 'methods', 'use', 'machinedeep', 'learning', 'methods', 'dataset', 'dissemination', 'increase', 'design', 'development', 'gbmits', 'mechanism', 'used', 'providing', 'feedback', 'needs', 'evaluated', 'optimized'], ['an', 'important', 'emergent', 'area', 'research', 'within', 'field', 'ai', 'education', 'aied', 'digital', 'learning', 'games', 'these', 'types', 'games', 'use', 'artificial', 'intelligence', 'support', 'learning', 'motivating', 'engaging', 'students', 'computerbased', 'gameplay', 'aied', 'digital', 'learning', 'games', 'research', 'still', 'nascent', 'stage', 'witnessed', 'infrequently', 'research', 'articles', 'learning', 'games', 'even', 'mention', 'ai', 'schöbel', 'et', 'al', 'furthermore', 'aied', 'researchers', 'created', 'prominent', 'digital', 'games', 'support', 'learning', '–', 'games', 'battleship', 'numberline', 'crystal', 'island', 'decimal', 'point', 'istart', 'mathspring', 'policy', 'world', 'physics', 'playground', 'squares', 'family', 'still', 'many', 'ways', 'ai', 'could', 'applied', 'digital', 'learning', 'games', 'this', 'chapter', 'describes', 'progress', 'thus', 'far', 'aied', 'digital', 'learning', 'games', 'highlights', 'categorizes', 'noteworthy', 'games', 'field', 'suggests', 'new', 'directions', 'research', 'the', 'suggested', 'new', 'directions', 'include', 'focusing', 'equity', 'inclusion', 'aied', 'digital', 'learning', 'games', 'creating', 'realistic', 'compelling', 'nonplayer', 'characters', 'creating', 'student', 'models', 'enjoyment', 'guide', 'gameplay', 'developing', 'games', 'integrate', 'physical', 'world', 'ai', 'game', 'software', 'designing', 'developing', 'collaborative', 'versus', 'individual', 'aied', 'digital', 'learning', 'games', 'moving', 'aied', 'digital', 'learning', 'games', 'research', 'realm', 'realworld', 'use', 'with', 'multidisciplinary', 'approach', 'tapping', 'expertise', 'learning', 'scientists', 'educational', 'technologists', 'game', 'designers', 'human–computer', 'interaction', 'designers', 'ai', 'experts', 'new', 'directions', 'could', 'lead', 'new', 'exciting', 'effective', 'learning', 'games', 'well', 'significantly', 'use', 'educational', 'settings', 'aied_digital', 'learning_games', 'artificial_intelligence', 'aied_digital', 'learning_games', 'learning_games', 'digital_learning', 'aied_digital', 'learning_games', 'aied_digital', 'learning_games', 'aied_digital', 'learning_games', 'aied_digital', 'learning_games', 'learning_games'], ['the', 'rapid', 'progress', 'digitalization', 'automation', 'led', 'accelerated', 'growth', 'healthcare', 'generating', 'novel', 'models', 'creating', 'new', 'channels', 'rendering', 'treatment', 'reduced', 'cost', 'the', 'metaverse', 'emerging', 'technology', 'digital', 'space', 'huge', 'potential', 'healthcare', 'enabling', 'realistic', 'experiences', 'patients', 'well', 'medical', 'practitioners', 'the', 'metaverse', 'confluence', 'multiple', 'enabling', 'technologies', 'artificial', 'intelligence', 'virtual', 'reality', 'augmented', 'reality', 'internet', 'medical', 'devices', 'robotics', 'quantum', 'computing', 'etc', 'new', 'directions', 'providing', 'quality', 'healthcare', 'treatment', 'services', 'explored', 'the', 'amalgamation', 'technologies', 'ensures', 'immersive', 'intimate', 'personalized', 'patient', 'care', 'it', 'also', 'provides', 'adaptive', 'intelligent', 'solutions', 'eliminates', 'barriers', 'healthcare', 'providers', 'receivers', 'this', 'article', 'provides', 'comprehensive', 'review', 'metaverse', 'healthcare', 'emphasizing', 'state', 'art', 'enabling', 'technologies', 'adopt', 'metaverse', 'healthcare', 'potential', 'applications', 'related', 'projects', 'the', 'issues', 'adaptation', 'metaverse', 'healthcare', 'applications', 'also', 'identified', 'plausible', 'solutions', 'highlighted', 'part', 'future', 'research', 'directions', 'artificial_intelligence', 'future_research'], ['as', 'time', 'goes', 'number', 'people', 'use', 'information', 'communication', 'technology', 'ict', 'grows', 'emerging', 'technologies', 'receiving', 'lot', 'attention', 'academics', 'researchers', 'users', 'emerging', 'technologies', 'changing', 'quickly', 'ever', 'important', 'start', 'building', 'skills', 'early', 'education', 'using', 'right', 'examples', 'teach', 'learn', 'digital', 'citizenship', 'new', 'pedagogies', 'support', 'individual', 'teaching', 'learning', 'methodologies', 'knowledge', 'acquisition', 'selfdirected', 'learning', 'hundreds', 'digital', 'education', 'tools', 'developed', 'increase', 'student', 'autonomy', 'enhance', 'academic', 'process', 'management', 'promote', 'collaboration', 'improve', 'communication', 'teachers', 'students', 'this', 'article', 'examines', 'current', 'state', 'emerging', 'technologies', 'variety', 'educational', 'viewpoints', 'highlights', 'them', 'discusses', 'established', 'potential', 'educational', 'benefits', 'additionally', 'offers', 'indepth', 'debates', 'recent', 'developments', 'future', 'challenges', 'wide', 'range', 'perspectives', 'the', 'analysis', 'focuses', 'peerreviewed', 'research', 'articles', 'published', 'wellrenowned', 'publications', 'databases', 'last', 'years', 'drawing', 'upon', 'bibliometric', 'analysis', 'using', 'vosviewer', 'the', 'results', 'study', 'also', 'anticipated', 'serve', 'substantial', 'impetus', 'universities', 'colleges', 'worldwide', 'utilize', 'innovatively', 'revolutionized', 'technology', 'better', 'academic', 'performance'], ['each', 'section', 'chapter', 'written', 'different', 'author', 'focusing', 'particular', 'challenge', 'opportunity', 'future', 'choosing', 'there', 'various', 'ways', 'sections', 'could', 'organised', 'end', 'left', 'order', 'originally', 'submitted', 'note', 'however', 'sections', 'deal', 'issues', 'around', 'access', 'equity', 'sections', 'cover', 'different', 'kinds', 'learning', 'enabling', 'technology', 'sections', 'offer', 'two', 'aspects', 'issue', 'namely', 'ubiquity', 'information', 'overload'], ['in', 'software', 'engineering', 'education', 'see', 'context', 'virtual', 'worlds', 'used', 'order', 'improve', 'learning', 'outcomes', 'however', 'gap', 'literature', 'order', 'characterize', 'use', 'metaverse', 'see', 'the', 'objective', 'work', 'characterize', 'stateoftheart', 'virtual', 'worlds', 'see', 'provide', 'research', 'opportunities', 'challenges', 'fill', 'limitations', 'found', 'we', 'conducted', 'systematic', 'literature', 'review', 'established', 'research', 'questions', 'guided', 'study', 'well', 'performed', 'data', 'extraction', 'we', 'report', 'primary', 'studies', 'deal', 'mostly', 'immersive', 'experiences', 'see', 'the', 'results', 'show', 'limitations', 'software', 'engineering', 'se', 'topics', 'covered', 'applications', 'simulate', 'environments', 'explore', 'new', 'ways', 'viewing', 'interacting', 'interoperability', 'virtual', 'worlds', 'learning', 'analysis', 'techniques', 'applied', 'biometric', 'data', 'considered', 'validations', 'studies', 'although', 'virtual', 'worlds', 'see', 'results', 'indicate', 'need', 'develop', 'mechanisms', 'order', 'support', 'integration', 'virtual', 'worlds', 'therefore', 'based', 'findings', 'review', 'established', 'set', 'components', 'grouped', 'layers', 'enable', 'metaverse', 'see', 'fundamental', 'requirements', 'we', 'hope', 'work', 'motivate', 'promising', 'research', 'order', 'foster', 'immersive', 'learning', 'experiences', 'se', 'metaverse', 'systematic_literature'], ['metaverse', 'buzz', 'technology', 'moment', 'raising', 'attention', 'academia', 'industry', 'many', 'stakeholders', 'considering', 'extension', 'existing', 'applications', 'metaverse', 'environment', 'usability', 'the', 'healthcare', 'industry', 'gradually', 'making', 'use', 'metaverse', 'improve', 'quality', 'service', 'enhance', 'living', 'conditions', 'in', 'paper', 'focus', 'potential', 'digital', 'antiaging', 'healthcare', 'metaverse', 'environment', 'we', 'show', 'use', 'metaverse', 'environment', 'enhance', 'healthcare', 'service', 'quality', 'increase', 'life', 'expectancy', 'patients', 'confident', 'processes', 'chronic', 'disease', 'management', 'fitness', 'mental', 'health', 'control', 'metaverse', 'the', 'convergence', 'artificial', 'intelligence', 'ai', 'blockchain', 'bc', 'internet', 'things', 'iot', 'immersive', 'technologies', 'digital', 'twin', 'metaverse', 'environment', 'presents', 'new', 'scopes', 'healthcare', 'industry', 'by', 'leveraging', 'technologies', 'healthcare', 'providers', 'improve', 'patient', 'outcomes', 'reduce', 'healthcare', 'costs', 'create', 'new', 'healthcare', 'experiences', 'better', 'life', 'thus', 'facilitating', 'antiaging', 'process', 'ai', 'used', 'analyze', 'largescale', 'medical', 'data', 'make', 'personalized', 'treatment', 'plans', 'blockchain', 'create', 'secure', 'transparent', 'healthcare', 'data', 'ecosystem', 'as', 'iot', 'devices', 'collect', 'realtime', 'data', 'patients', 'necessary', 'treatment', 'together', 'technologies', 'transform', 'healthcare', 'industry', 'improve', 'lives', 'patients', 'worldwide', 'the', 'suggestions', 'highlighted', 'paper', 'worthy', 'undergo', 'implementation', 'create', 'benefits', 'promote', 'digital', 'antiaging', 'process', 'users', 'longer', 'life', 'experience', 'artificial_intelligence'], ['health', 'behaviors', 'inextricably', 'linked', 'health', 'wellbeing', 'yet', 'issues', 'physical', 'inactivity', 'insufficient', 'sleep', 'remain', 'significant', 'global', 'public', 'health', 'problems', 'mobile', 'technology—and', 'unprecedented', 'scope', 'quantity', 'data', 'generates—has', 'promising', 'largely', 'untapped', 'potential', 'promote', 'health', 'behaviors', 'individual', 'population', 'levels', 'this', 'perspective', 'article', 'provides', 'multidisciplinary', 'recommendations', 'design', 'use', 'mobile', 'technology', 'concomitant', 'wealth', 'data', 'promote', 'behaviors', 'support', 'overall', 'health', 'using', 'physical', 'activity', 'anexemplar', 'health', 'behavior', 'review', 'emerging', 'strategies', 'health', 'behavior', 'change', 'interventions', 'we', 'describe', 'progress', 'personalizing', 'interventions', 'individual', 'social', 'cultural', 'built', 'environments', 'well', 'evaluating', 'relationships', 'mobile', 'technology', 'data', 'health', 'establish', 'evidencebased', 'guidelines', 'in', 'reviewing', 'strategies', 'highlighting', 'directions', 'future', 'research', 'advance', 'use', 'theorybased', 'personalized', 'humancentered', 'approaches', 'promoting', 'health', 'behaviors', 'future_research'], ['immersive', 'virtual', 'reality', 'ivr', 'considered', 'effective', 'efficient', 'instructional', 'tool', 'architecture', 'engineering', 'construction', 'operation', 'facility', 'management', 'aecofm', 'education', 'however', 'essential', 'systematically', 'evaluate', 'obtain', 'consolidated', 'evidence', 'impact', 'ivr', 'applications', 'thus', 'aim', 'article', 'present', 'stateoftheart', 'aecofm', 'use', 'cases', 'including', 'learning', 'theoriesmodels', 'key', 'factors', 'experimental', 'design', 'suggest', 'future', 'directions', 'ivr', 'research', 'this', 'review', 'follows', 'systematic', 'literature', 'review', 'methodology', 'analyze', 'papers', 'the', 'results', 'show', 'learning', 'theoriesmodels', 'sufficiently', 'applied', 'there', 'consensus', 'ivr', 'influences', 'affective', 'factors', 'positively', 'it', 'necessary', 'consider', 'task', 'type', 'task', 'complexity', 'virtual', 'environment', 'design', 'ergonomics', 'ivr', 'tools', 'terms', 'cognitive', 'factors', 'cognitiveaffective', 'factors', 'associated', 'learning', 'performance', 'examined', 'depth', 'develop', 'effective', 'learning', 'methods', 'future', 'studies', 'design', 'conduct', 'experimental', 'procedures', 'scientific', 'rigor', 'systematic_literature'], ['smart', 'technology', 'quickly', 'constantly', 'evolving', 'concept', 'different', 'applications', 'cover', 'wide', 'range', 'areas', 'healthcare', 'education', 'business', 'agriculture', 'manufacturing', 'an', 'effective', 'application', 'technologies', 'increases', 'productivity', 'performance', 'within', 'complex', 'systems', 'on', 'one', 'side', 'trends', 'show', 'lack', 'appeal', 'rural', 'environments', 'people', 'prefer', 'move', 'cities', 'looking', 'better', 'opportunities', 'lifestyles', 'on', 'side', 'recent', 'studies', 'reports', 'show', 'attractiveness', 'rural', 'areas', 'places', 'opportunities', 'increasing', 'sustainable', 'solutions', 'needed', 'enhance', 'development', 'rural', 'context', 'technological', 'innovation', 'expected', 'lead', 'support', 'stability', 'people', 'organizations', 'rural', 'regions', 'while', 'smart', 'city', 'progressively', 'becoming', 'reality', 'successful', 'model', 'integrating', 'smart', 'technology', 'different', 'aspects', 'everyday', 'life', 'effective', 'application', 'rural', 'context', 'according', 'sustainable', 'development', 'approach', 'yet', 'completely', 'defined', 'this', 'study', 'adopts', 'comparative', 'categorial', 'content', 'analysis', 'address', 'different', 'applications', 'specific', 'characteristics', 'rural', 'regions', 'often', 'present', 'significant', 'peculiarities', 'depending', 'country', 'context', 'the', 'main', 'goal', 'investigate', 'discuss', 'smart', 'city', 'model', 'may', 'adopted', 'effectively', 'applied', 'within', 'rural', 'contexts', 'looking', 'major', 'gaps', 'challenges', 'additionally', 'complexity', 'topic', 'provide', 'overview', 'current', 'adoption', 'smart', 'technology', 'different', 'applications', 'rural', 'areas', 'including', 'farming', 'education', 'business', 'healthcare', 'governance', 'the', 'study', 'highlights', 'huge', 'difficulties', 'rural', 'life', 'potentiality', 'smart', 'technology', 'enhance', 'sustainable', 'development', 'still', 'challenging', 'while', 'holistic', 'analysis', 'clearly', 'points', 'gap', 'specific', 'strategic', 'roadmap', 'reuse', 'adapt', 'existing', 'models', 'smart', 'city', 'the', 'study', 'address', 'finegrained', 'indicators'], ['metaverse', 'invading', 'educational', 'sector', 'change', 'humancomputer', 'interaction', 'techniques', 'prominent', 'technology', 'executives', 'developing', 'novel', 'ways', 'turn', 'metaverse', 'learning', 'environment', 'considering', 'rapid', 'growth', 'technology', 'since', 'covid', 'outbreak', 'people', 'grown', 'accustomed', 'teleworking', 'telemedicine', 'numerous', 'forms', 'distance', 'interaction', 'recently', 'metaverse', 'focus', 'many', 'educators', 'with', 'facebook’', 'statement', 'rebranding', 'promoting', 'meta', 'field', 'saw', 'surge', 'interest', 'areas', 'computer', 'science', 'education', 'there', 'literature', 'gap', 'studying', 'metaverse’', 'role', 'education', 'this', 'article', 'systematic', 'review', 'following', 'prisma', 'framework', 'reviews', 'role', 'metaverse', 'education', 'shrink', 'literature', 'gap', 'it', 'presents', 'various', 'educational', 'uses', 'aid', 'future', 'research', 'field', 'additionally', 'demonstrates', 'enabling', 'technologies', 'like', 'extended', 'reality', 'xr', 'internet', 'everything', 'ioe', 'significantly', 'impact', 'educational', 'services', 'metaverses', 'future', 'teaching', 'learning', 'the', 'article', 'also', 'outlines', 'key', 'challenges', 'ethical', 'issues', 'potential', 'threats', 'using', 'metaverse', 'education', 'offer', 'road', 'map', 'future', 'research', 'investigate', 'metaverse', 'improve', 'learning', 'teaching', 'experiences', 'future_research', 'future_research'], ['with', 'advent', 'digital', 'therapeutics', 'dtx', 'development', 'software', 'medical', 'device', 'samd', 'mobile', 'wearable', 'devices', 'gained', 'significant', 'attention', 'recent', 'years', 'existing', 'dtx', 'evaluations', 'randomized', 'clinical', 'trials', 'mostly', 'focus', 'verifying', 'effectiveness', 'dtx', 'products', 'to', 'acquire', 'deeper', 'understanding', 'dtx', 'engagement', 'behavioral', 'adherence', 'beyond', 'efficacy', 'large', 'amount', 'contextual', 'interaction', 'data', 'mobile', 'wearable', 'devices', 'field', 'deployment', 'would', 'required', 'analysis', 'in', 'work', 'overall', 'flow', 'datadriven', 'dtx', 'analytics', 'reviewed', 'help', 'researchers', 'practitioners', 'explore', 'dtx', 'datasets', 'investigate', 'contextual', 'patterns', 'associated', 'dtx', 'usage', 'establish', 'causal', 'relationship', 'dtx', 'engagement', 'behavioral', 'adherence', 'this', 'review', 'key', 'components', 'datadriven', 'analytics', 'provides', 'novel', 'research', 'directions', 'analysis', 'mobile', 'sensor', 'interaction', 'datasets', 'helps', 'iteratively', 'improve', 'receptivity', 'existing', 'dtx'], ['one', 'modern', 'technologies', 'promise', 'metaverse', 'according', 'technologists', 'many', 'discussions', 'opportunities', 'challenges', 'metaverse', 'higher', 'education', 'metaverse', 'defined', 'many', 'educationists', 'next', 'generation', 'internetbased', 'education', 'since', 'creation', 'metaverse', 'viewed', 'shared', 'virtual', 'area', 'simulations', 'may', 'work', 'together', 'users', 'may', 'produce', 'material', 'engage', 'interactive', 'experiences', 'fully', 'immersive', 'permanent', 'metaverse', 'educational', 'metaverse', 'performs', 'four', 'distinctive', 'classes', 'ie', 'avatars', 'arvrmr', 'ai', 'lifelogging', 'higher', 'education', 'students', 'may', 'chance', 'practice', 'different', 'skills', 'metaverse', 'placed', 'intellectual', 'competencepracticing', 'environment', 'encouraged', 'develop', 'learn', 'things', 'unable', 'real', 'world', 'able', 'collaborate', 'communicate', 'students', 'virtual', 'world', 'immersive', 'learning', 'experiences', 'personalized', 'learning', 'augmented', 'collaboration', 'enhanced', 'accessibility', 'benefits', 'using', 'metaverse', 'higher', 'education', 'whereas', 'challenges', 'educational', 'metaverse', 'higher', 'education', 'include', 'regarding', 'nature', 'immersive', 'learning', 'experiences', 'quality', 'teachinglearning', 'content', 'virtual', 'immersive', 'environment', 'interface', 'interaction', 'challenges', 'regarding', 'security', 'privacy', 'users', 'data', 'hardware', 'software', 'students', 'provided', 'unique', 'valuable', 'learning', 'experiences', 'prepare', 'opportunities', 'challenges', 'future', 'utilizing', 'cuttingedge', 'technology', 'metaverse', 'higher', 'education', 'higher_education', 'higher_education', 'higher_education', 'higher_education', 'higher_education'], ['serious', 'games', 'increasingly', 'popular', 'multiple', 'fields', 'including', 'education', 'environmental', 'engagement', 'we', 'conducted', 'systematic', 'review', 'examine', 'reasons', 'increasing', 'popularity', 'features', 'successful', 'serious', 'games', 'current', 'trend', 'serious', 'games', 'application', 'environmental', 'education', 'our', 'systematic', 'search', 'revealed', 'records', 'papers', 'from', 'years', 'use', 'serious', 'games', 'environmental', 'education', 'thirtyfive', 'published', 'recent', 'years', 'reflecting', 'growing', 'interest', 'area', 'the', 'games', 'aimed', 'imparting', 'knowledge', 'changing', 'attitude', 'changing', 'behaviour', 'reasons', 'increased', 'application', 'serious', 'games', 'include', 'raising', 'awareness', 'serious', 'games', 'growing', 'investment', 'serious', 'games', 'development', 'research', 'well', 'better', 'technological', 'access', 'mobile', 'devices', 'successful', 'serious', 'games', 'exhibit', 'following', 'features', 'immersive', 'experience', 'meaningful', 'engagement', 'learnbydoing', 'involvement', 'simulation', 'realworld', 'environmental', 'problems', 'autonomy', 'game', 'decisions', 'presence', 'guiding', 'host', 'this', 'review', 'also', 'revealed', 'two', 'categories', 'digital', 'serious', 'games', 'computer', 'games', 'mobile', 'apps', 'three', 'categories', 'physical', 'games', 'board', 'games', 'card', 'game', 'roleplaying', 'games', 'the', 'gaps', 'include', 'lack', 'ingame', 'experience', 'data', 'limits', 'understanding', 'impacts', 'commercial', 'games', 'variation', 'game', 'experience', 'conservation', 'experience', 'among', 'participants', 'translates', 'impacts', 'serious', 'games', 'lack', 'understanding', 'effects', 'serious', 'games', 'high', 'complexities', 'adults', 'learning', 'serious', 'games', 'increasingly', 'digitised', 'moving', 'towards', 'locationbased', 'games', 'alternate', 'reality', 'augmented', 'reality', 'virtual', 'reality', 'these', 'games', 'facilitate', 'interaction', 'learners', 'natural', 'environment', 'turn', 'strengthen', 'environmental', 'awareness', 'appreciation', 'serious_games', 'serious_games', 'serious_games', 'serious_games', 'serious_games', 'serious_games', 'serious_games', 'serious_games', 'serious_games', 'serious_games', 'serious_games', 'serious_games', 'serious_games', 'serious_games', 'serious_games', 'serious_games', 'serious_games', 'serious_games', 'serious_games', 'serious_games', 'serious_games', 'serious_games', 'serious_games', 'serious_games'], ['climate', 'change', 'become', 'major', 'problem', 'humanity', 'last', 'two', 'decades', 'one', 'reasons', 'caused', 'it', 'daily', 'energy', 'waste', 'people', 'consume', 'electricity', 'order', 'use', 'homework', 'appliances', 'devices', 'also', 'reach', 'certain', 'levels', 'comfort', 'working', 'home', 'however', 'even', 'though', 'environmental', 'impact', 'behavior', 'immediately', 'observed', 'leads', 'increased', 'co', 'emissions', 'coming', 'energy', 'generation', 'power', 'plants', 'it', 'shown', 'emissions', 'come', 'electricity', 'consumption', 'also', 'percentage', 'could', 'saved', 'started', 'using', 'energy', 'efficiently', 'confronting', 'problem', 'efficiently', 'affect', 'environment', 'society', 'monitoring', 'energy', 'consumption', 'realtime', 'changing', 'energy', 'wastage', 'behavior', 'occupants', 'using', 'automations', 'incorporated', 'energy', 'savings', 'scenarios', 'ways', 'decrease', 'global', 'energy', 'footprint', 'in', 'review', 'study', 'intelligent', 'systems', 'energy', 'management', 'residential', 'commercial', 'educational', 'buildings', 'classifying', 'two', 'major', 'categories', 'depending', 'whether', 'provide', 'direct', 'indirect', 'control', 'the', 'article', 'also', 'discusses', 'strengths', 'weaknesses', 'are', 'optimization', 'techniques', 'use', 'finally', 'provide', 'insights', 'systems', 'improved', 'future', 'energy_savings'], ['this', 'literature', 'review', 'surveys', 'extant', 'research', 'october', 'three', 'key', 'conferences', 'related', 'software', 'engineering', 'repository', 'mining', 'mining', 'software', 'repositories', 'msr', 'international', 'conference', 'software', 'engineering', 'icse', 'international', 'conference', 'software', 'maintenance', 'evolution', 'icsme', 'the', 'review', 'taxonifies', 'hundreds', 'research', 'papers', 'provides', 'summary', 'analysis', 'noteworthy', 'papers', 'related', 'code', 'writing', 'refactoring', 'code', 'comprehension', 'smells', 'code', 'quality', 'aspects', 'software', 'development', 'related', 'entire', 'software', 'project', 'human', 'dynamics', 'within', 'project', 'the', 'review', 'also', 'explores', 'cross', 'cutting', 'themes', 'among', 'topics', 'bots', 'machine', 'learning', 'influence', 'different', 'environments', '–', 'free', 'open', 'source', 'projects', 'vs', 'start', 'ups', 'vs', 'established', 'industry', '–', 'development', 'process', 'underlying', 'work', 'eye', 'research', 'applicable', 'advanced', 'scientific', 'computing', 'space', 'which', 'united', 'states', 'often', 'performed', 'national', 'laboratories'], ['big', 'data', 'bd', 'making', 'advances', 'promoting', 'sustainable', 'consumption', 'behaviour', 'attracted', 'attention', 'researchers', 'worldwide', 'despite', 'increased', 'focus', 'findings', 'studies', 'topic', 'fragmented', 'future', 'researchers', 'need', 'systematic', 'understanding', 'existing', 'literature', 'identification', 'research', 'scope', 'this', 'study', 'offers', 'systematic', 'review', 'role', 'bd', 'promoting', 'sustainableconsumption', 'behaviour', 'help', 'bibliometric', 'analysis', 'followed', 'thematic', 'analysis', 'the', 'findings', 'suggest', 'businesses', 'deploy', 'bd', 'create', 'sustainable', 'consumer', 'experiences', 'predict', 'consumer', 'buying', 'patterns', 'design', 'alter', 'business', 'models', 'create', 'nudges', 'sustainable', 'consumption', 'consumers', 'forcing', 'businesses', 'develop', 'green', 'operations', 'supply', 'chains', 'reduce', 'latter’', 'carbon', 'footprint', 'the', 'major', 'research', 'gaps', 'future', 'researchers', 'following', 'areas', 'impact', 'big', 'data', 'analytics', 'bda', 'consumerism', 'role', 'bd', 'formation', 'sustainable', 'habits', 'consumer', 'knowledge', 'creation', 'sustainable', 'consumption', 'prediction', 'green', 'consumer', 'behaviour'], ['several', 'works', 'literature', 'contributed', 'web', 'evaluation', 'process', 'recent', 'years', 'promote', 'digital', 'inclusion', 'addressing', 'several', 'accessibility', 'guidelines', 'methods', 'processes', 'techniques', 'researchers', 'investigated', 'web', 'evaluation', 'process', 'could', 'facilitated', 'including', 'accessibility', 'issues', 'obtain', 'inclusive', 'accessible', 'solution', 'improve', 'user', 'experience', 'increase', 'user', 'satisfaction', 'three', 'systematic', 'literature', 'reviews', 'slrs', 'conducted', 'context', 'past', 'research', 'considering', 'research', 'focuses', 'this', 'paper', 'presents', 'new', 'slr', 'approach', 'concerning', 'accessibility', 'web', 'evaluation', 'process', 'considering', 'period', 'the', 'review', 'primary', 'studies', 'showed', 'contribution', 'publications', 'different', 'phases', 'web', 'evaluation', 'process', 'mainly', 'highlighting', 'significant', 'studies', 'framework', 'design', 'testing', 'process', 'to', 'best', 'knowledge', 'first', 'study', 'focused', 'web', 'accessibility', 'literature', 'reporting', 'engineering', 'assets', 'evaluation', 'new', 'accessible', 'inclusive', 'webbased', 'solutions', 'eg', 'websites', 'besides', 'study', 'aim', 'provide', 'new', 'direction', 'web', 'designers', 'developers', 'updated', 'view', 'process', 'methods', 'techniques', 'tools', 'crucial', 'aspects', 'contribute', 'accessible', 'process', 'enrichment', 'well', 'depict', 'gaps', 'challenges', 'may', 'worthy', 'investigated', 'future', 'the', 'findings', 'slr', 'introduce', 'new', 'dimension', 'web', 'accessibility', 'research', 'determining', 'mitigating', 'research', 'gap', 'web', 'accessibility', 'issues', 'web', 'designers', 'developers', 'practitioners', 'systematic_literature'], ['through', 'scoping', 'review', 'nonmedical', 'professionals', 'policy', 'makers', 'visualize', 'better', 'understand', 'hrss', 'future', 'studies', 'the', 'health', 'care', 'professionals', 'end', 'users', 'encouraged', 'participate', 'future', 'design', 'development', 'hrss', 'optimize', 'utility', 'successful', 'implementation', 'detailed', 'evaluations', 'hrss', 'usercentered', 'approach', 'needed', 'future', 'studies'], ['the', 'use', 'onscene', 'decryption', 'categorisation', 'photos', 'taken', 'crime', 'scene', 'primary', 'focuses', 'digital', 'forensics', 'scene', 'crime', 'the', 'method', 'conducting', 'digital', 'forensic', 'investigation', 'focused', 'new', 'forms', 'technology', 'solid', 'state', 'drives', 'well', 'reevaluating', 'digital', 'forensic', 'procedure', 'memory', 'forensics', 'considered', 'increasingly', 'significant', 'particular', 'emphasis', 'placed', 'finding', 'solutions', 'desktop', 'operating', 'systems', 'encryption', 'crash', 'dumps', 'hibernation', 'files', 'debuggers', 'virtualization', 'means', 'hypervisors', 'generate', 'execute', 'virtual', 'computers', 'an', 'examination', 'file', 'systems', 'particular', 'wellknown', 'systems', 'windows', 'well', 'investigation', 'potential', 'future', 'file', 'systems', 'google', 'fuschia', 'distributed', 'file', 'systems', 'the', 'topic', 'antiforensics', 'discussed', 'number', 'works', 'particular', 'attention', 'paid', 'distinction', 'accidental', 'intentional', 'tampering', 'well', 'efficacy', 'erasure', 'techniques', 'within', 'realm', 'devices', 'systems', 'primary', 'concentration', 'cloud', 'forensics', 'placed', 'difficulties', 'associated', 'conducting', 'forensic', 'investigation', 'cloud', 'computing', 'systems', 'outlined', 'nist', 'well', 'various', 'possible', 'solutions', '“forensic', 'design”', 'when', 'comes', 'dealing', 'forensic', 'investigation', 'internet', 'things', 'systems', 'field', 'getting', 'feet', 'wet', 'number', 'authors', 'considered', 'conventional', 'approaches', 'analysis', 'also', 'recent', 'method', 'electromagnetic', 'sidechannel', 'analysis', 'the', 'field', 'digital', 'forensics', 'motor', 'vehicles', 'becoming', 'increasingly', 'significant', 'the', '“internet', 'vehicles', 'ecosystem”', '“digital', 'identification', 'motor', 'vehicles”', '“digital', 'forensic', 'analysis', 'motor', 'vehicle', 'collisions”', 'topics', 'fall', 'category', 'research', 'it', 'mentioned', 'one', 'common', 'tool', 'offered', 'sale', 'market', 'conducting', 'digital', 'forensics', 'motor', 'vehicles', 'apps', 'social', 'media', 'combined', 'subject', 'discussion', 'growing', 'overlap', 'two', 'fields', 'the', 'functionality', 'messaging', 'app', 'vendors', 'evolving', 'encompass', 'larger', 'social', 'media', 'services', 'publishing', 'channels', 'news', 'channels', 'using', 'evidence', 'found', 'social', 'media', 'sites', 'one', 'way', 'behavioural', 'science', 'beginning', 'use', 'digital', 'forensic', 'approaches', 'it', 'discovered', 'criminal', 'profiling', 'sentiment', 'analysis', 'might', 'potentially', 'deduced', 'posts', 'made', 'social', 'media', 'small', 'sample', 'digital', 'evidence', 'legal', 'proceedings', 'cybercrime', 'data', 'governance', 'issues', 'occupying', 'minds', 'justice', 'system', 'political', 'leaders', 'several', 'jurisdictions', 'discussed'], ['appbased', 'mhealth', 'physical', 'activity', 'studies', 'continue', 'underreport', 'several', 'key', 'study', 'characteristics', 'limited', 'pragmatic', 'use', 'generalizability', 'in', 'addition', 'pragmatic', 'interventions', 'observe', 'smaller', 'treatment', 'effects', 'whereas', 'study', 'duration', 'appears', 'unrelated', 'effect', 'size', 'future', 'appbased', 'studies', 'comprehensively', 'report', 'realworld', 'applicability', 'pragmatic', 'approaches', 'needed', 'maximal', 'population', 'health', 'impacts'], ['road', 'safety', 'increasingly', 'threatened', 'distracted', 'driving', 'studies', 'shown', 'significantly', 'increased', 'risk', 'driver', 'involved', 'car', 'crash', 'due', 'visual', 'distractions', 'not', 'watching', 'road', 'manual', 'distractions', 'hands', 'wheel', 'nondriving', 'activities', 'cognitive', 'acoustic', 'distractions', 'the', 'driver', 'focused', 'driving', 'task', 'driving', 'simulators', 'dss', 'powerful', 'tools', 'identifying', 'drivers’', 'responses', 'different', 'distracting', 'factors', 'safe', 'manner', 'this', 'paper', 'aims', 'systematically', 'review', 'simulatorbased', 'studies', 'investigate', 'types', 'distractions', 'introduced', 'using', 'phone', 'texting', 'driving', 'twd', 'hardware', 'measures', 'used', 'analyze', 'distraction', 'impact', 'using', 'mobile', 'devices', 'read', 'write', 'messages', 'driving', 'driving', 'performance', 'the', 'review', 'followed', 'preferred', 'reporting', 'items', 'systematic', 'reviews', 'metaanalysis', 'extension', 'scoping', 'reviews', 'prismascr', 'guidelines', 'total', 'studies', 'identified', 'database', 'search', 'included', 'review', 'analyzed', 'order', 'respond', 'four', 'research', 'questions', 'the', 'main', 'findings', 'revealed', 'twd', 'distraction', 'negative', 'effects', 'driving', 'performance', 'affecting', 'drivers’', 'divided', 'attention', 'concentration', 'lead', 'potentially', 'lifethreatening', 'traffic', 'events', 'we', 'also', 'provide', 'several', 'recommendations', 'driving', 'simulators', 'ensure', 'high', 'reliability', 'validity', 'experiments', 'this', 'review', 'serve', 'basis', 'regulators', 'interested', 'parties', 'propose', 'restrictions', 'related', 'using', 'mobile', 'phones', 'vehicle', 'improve', 'road', 'safety'], ['this', 'systematic', 'scoping', 'review', 'provides', 'unique', 'overview', 'ehealth', 'pediatric', 'asthma', 'monitoring', 'studies', 'revealed', 'ehealth', 'research', 'takes', 'place', 'throughout', 'different', 'monitoring', 'domains', 'using', 'different', 'approaches', 'the', 'outcomes', 'review', 'showed', 'potency', 'efficacy', 'monitoring', 'domains', 'future', 'studies', 'could', 'focus', 'combining', 'home', 'monitoring', 'domains', 'facilitate', 'multiparameter', 'decision', 'making', 'personalized', 'clinical', 'decision', 'support'], ['manufacturing', 'industries', 'currently', 'experiencing', 'fourth', 'industrial', 'revolution', 'rapid', 'advancements', 'immersive', 'technologies', 'human–machine', 'interaction', 'hmi', 'flexible', 'manufacturing', 'systems', 'fms', 'product', 'variance', 'limited', 'due', 'barriers', 'knowledge', 'transfer', 'stakeholders', 'existed', 'pre', 'postmanufacturing', 'phases', 'augmented', 'reality', 'ar', 'promising', 'technology', 'offer', 'high', 'degree', 'adaptability', 'independence', 'support', 'knowledge', 'transfer', 'crucial', 'manufacturing', 'stages', 'assembly', 'repair', 'maintenance', 'this', 'article', 'focused', 'presenting', 'state', 'art', 'literature', 'ar', 'technologies', 'product', 'assembly', 'disassembly', 'maintenancerepair', 'perspective', 'the', 'working', 'various', 'modules', 'ar', 'technology', 'facilitating', 'userfriendly', 'guiding', 'platform', 'applications', 'discussed', 'suitable', 'illustrations', 'the', 'critical', 'difficulties', 'tracking', 'rendering', 'techniques', 'estimating', 'human', 'movement', 'environment', 'experiences', 'observed', 'extend', 'adaptability', 'technology', 'future', 'research', 'potential', 'enhancing', 'virtual', 'interface', 'reality', 'identifying', 'worker', 'behaviours', 'enabling', 'sharing', 'collaboration', 'multiple', 'streams', 'industrial', 'context', 'analyzed', 'future_research']]\n"
          ]
        }
      ],
      "source": [
        "print(text_list)"
      ]
    },
    {
      "cell_type": "code",
      "execution_count": null,
      "metadata": {
        "colab": {
          "base_uri": "https://localhost:8080/"
        },
        "id": "EO5hqr3Ufk0S",
        "outputId": "f03eebd3-fa1c-43e0-ece5-858120be263f",
        "vscode": {
          "languageId": "python"
        }
      },
      "outputs": [
        {
          "name": "stdout",
          "output_type": "stream",
          "text": [
            "Dictionary<65 unique tokens: ['develop', 'environments', 'investigate', 'researchers', 'students']...>\n"
          ]
        }
      ],
      "source": [
        "from gensim import corpora, models\n",
        "# Create a dictionary representation of the documents.\n",
        "dictionary = corpora.Dictionary(text_list)\n",
        "dictionary.filter_extremes(no_below=5, no_above=0.2) \n",
        "#no_below (int, optional) – Keep tokens which are contained in at least no_below documents.\n",
        "#no_above (float, optional) – Keep tokens which are contained in no more than no_above documents (fraction of total corpus size, not an absolute number).\n",
        "print(dictionary)"
      ]
    },
    {
      "cell_type": "code",
      "execution_count": null,
      "metadata": {
        "colab": {
          "base_uri": "https://localhost:8080/"
        },
        "id": "oF92M3p_fqlQ",
        "outputId": "7b896b5d-51ae-439c-f143-0369af997b5c",
        "vscode": {
          "languageId": "python"
        }
      },
      "outputs": [
        {
          "name": "stdout",
          "output_type": "stream",
          "text": [
            "32\n",
            "[(6, 1), (28, 1), (30, 1), (37, 1), (45, 1), (57, 1), (59, 1)]\n"
          ]
        }
      ],
      "source": [
        "#https://radimrehurek.com/gensim/tut1.html \n",
        "#build corpus\n",
        "# Converting list of documents (corpus) into Document Term Matrix using dictionary prepared above.\n",
        "doc_term_matrix = [dictionary.doc2bow(doc) for doc in text_list]\n",
        "#The function doc2bow converts document (a list of words) into the bag-of-words format\n",
        "'''The function doc2bow() simply counts the number of occurrences of each distinct word, \n",
        "converts the word to its integer word id and returns the result as a sparse vector. \n",
        "The sparse vector [(0, 1), (1, 1)] therefore reads: in the document “Human computer interaction”, \n",
        "the words computer (id 0) and human (id 1) appear once; \n",
        "the other ten dictionary words appear (implicitly) zero times.'''\n",
        "print(len(doc_term_matrix))\n",
        "print(doc_term_matrix[len(text_list)-1])\n",
        "tfidf = models.TfidfModel(doc_term_matrix) #build TF-IDF model\n",
        "corpus_tfidf = tfidf[doc_term_matrix]"
      ]
    },
    {
      "cell_type": "code",
      "execution_count": null,
      "metadata": {
        "id": "m5ZUrlyFfx85",
        "vscode": {
          "languageId": "python"
        }
      },
      "outputs": [],
      "source": [
        "from gensim.models.coherencemodel import CoherenceModel\n",
        "from gensim.models.ldamodel import LdaModel\n",
        "from gensim.corpora.dictionary import Dictionary\n",
        "from numpy import array\n",
        "#function to compute coherence values\n",
        "def compute_coherence_values(dictionary, corpus, texts, limit, start, step):\n",
        "    coherence_values = []\n",
        "    model_list = []\n",
        "    for num_topics in range(start, limit, step):\n",
        "        model = LdaModel(corpus=corpus, id2word=dictionary, num_topics=num_topics, iterations=100)\n",
        "        model_list.append(model)\n",
        "        coherencemodel = CoherenceModel(model=model, texts=texts, dictionary=dictionary, coherence='c_v')\n",
        "        coherence_values.append(coherencemodel.get_coherence())\n",
        "        \n",
        "    return model_list, coherence_values"
      ]
    },
    {
      "cell_type": "code",
      "execution_count": null,
      "metadata": {
        "colab": {
          "base_uri": "https://localhost:8080/",
          "height": 781
        },
        "id": "IBkB1bzOf3AP",
        "outputId": "01822026-ce6a-43d2-d340-e231f83de4db",
        "vscode": {
          "languageId": "python"
        }
      },
      "outputs": [
        {
          "name": "stderr",
          "output_type": "stream",
          "text": [
            "WARNING:gensim.models.ldamodel:too few updates, training might not converge; consider increasing the number of passes or iterations to improve accuracy\n",
            "WARNING:gensim.models.ldamodel:too few updates, training might not converge; consider increasing the number of passes or iterations to improve accuracy\n",
            "WARNING:gensim.models.ldamodel:too few updates, training might not converge; consider increasing the number of passes or iterations to improve accuracy\n",
            "WARNING:gensim.models.ldamodel:too few updates, training might not converge; consider increasing the number of passes or iterations to improve accuracy\n",
            "WARNING:gensim.models.ldamodel:too few updates, training might not converge; consider increasing the number of passes or iterations to improve accuracy\n",
            "WARNING:gensim.models.ldamodel:too few updates, training might not converge; consider increasing the number of passes or iterations to improve accuracy\n",
            "WARNING:gensim.models.ldamodel:too few updates, training might not converge; consider increasing the number of passes or iterations to improve accuracy\n",
            "WARNING:gensim.models.ldamodel:too few updates, training might not converge; consider increasing the number of passes or iterations to improve accuracy\n",
            "WARNING:gensim.models.ldamodel:too few updates, training might not converge; consider increasing the number of passes or iterations to improve accuracy\n",
            "WARNING:gensim.models.ldamodel:too few updates, training might not converge; consider increasing the number of passes or iterations to improve accuracy\n",
            "WARNING:gensim.models.ldamodel:too few updates, training might not converge; consider increasing the number of passes or iterations to improve accuracy\n",
            "WARNING:gensim.models.ldamodel:too few updates, training might not converge; consider increasing the number of passes or iterations to improve accuracy\n",
            "WARNING:gensim.models.ldamodel:too few updates, training might not converge; consider increasing the number of passes or iterations to improve accuracy\n",
            "WARNING:gensim.models.ldamodel:too few updates, training might not converge; consider increasing the number of passes or iterations to improve accuracy\n",
            "WARNING:gensim.models.ldamodel:too few updates, training might not converge; consider increasing the number of passes or iterations to improve accuracy\n",
            "WARNING:gensim.models.ldamodel:too few updates, training might not converge; consider increasing the number of passes or iterations to improve accuracy\n",
            "WARNING:gensim.models.ldamodel:too few updates, training might not converge; consider increasing the number of passes or iterations to improve accuracy\n",
            "WARNING:gensim.models.ldamodel:too few updates, training might not converge; consider increasing the number of passes or iterations to improve accuracy\n"
          ]
        },
        {
          "data": {
            "image/png": "[encoded data removed]",
            "text/plain": [
              "<Figure size 640x480 with 1 Axes>"
            ]
          },
          "metadata": {},
          "output_type": "display_data"
        }
      ],
      "source": [
        "start=1\n",
        "limit=19\n",
        "step=1\n",
        "model_list, coherence_values = compute_coherence_values(dictionary, corpus=corpus_tfidf, \n",
        "                                                        texts=text_list, start=start, limit=limit, step=step)\n",
        "#show graphs\n",
        "import matplotlib.pyplot as plt\n",
        "x = range(start, limit, step)\n",
        "plt.plot(x, coherence_values)\n",
        "plt.xlabel(\"Num Topics\")\n",
        "plt.ylabel(\"Coherence score\")\n",
        "plt.legend((\"coherence_values\"), loc='best')\n",
        "plt.show()"
      ]
    },
    {
      "cell_type": "code",
      "execution_count": null,
      "metadata": {
        "colab": {
          "base_uri": "https://localhost:8080/"
        },
        "id": "qaNFv0PIgDYh",
        "outputId": "8252c8f6-884b-49cf-940f-0d6d69ca81f4",
        "vscode": {
          "languageId": "python"
        }
      },
      "outputs": [
        {
          "name": "stdout",
          "output_type": "stream",
          "text": [
            "Num Topics = 1  has Coherence Value of 0.401\n",
            "Num Topics = 2  has Coherence Value of 0.406\n",
            "Num Topics = 3  has Coherence Value of 0.341\n",
            "Num Topics = 4  has Coherence Value of 0.32\n",
            "Num Topics = 5  has Coherence Value of 0.338\n",
            "Num Topics = 6  has Coherence Value of 0.364\n",
            "Num Topics = 7  has Coherence Value of 0.324\n",
            "Num Topics = 8  has Coherence Value of 0.414\n",
            "Num Topics = 9  has Coherence Value of 0.353\n",
            "Num Topics = 10  has Coherence Value of 0.354\n",
            "Num Topics = 11  has Coherence Value of 0.329\n",
            "Num Topics = 12  has Coherence Value of 0.368\n",
            "Num Topics = 13  has Coherence Value of 0.356\n",
            "Num Topics = 14  has Coherence Value of 0.387\n",
            "Num Topics = 15  has Coherence Value of 0.382\n",
            "Num Topics = 16  has Coherence Value of 0.368\n",
            "Num Topics = 17  has Coherence Value of 0.384\n",
            "Num Topics = 18  has Coherence Value of 0.376\n"
          ]
        }
      ],
      "source": [
        "# Print the coherence scores\n",
        "for m, cv in zip(x, coherence_values):\n",
        "    print(\"Num Topics =\", m, \" has Coherence Value of\", round(cv, 3))"
      ]
    },
    {
      "cell_type": "code",
      "execution_count": null,
      "metadata": {
        "colab": {
          "base_uri": "https://localhost:8080/"
        },
        "id": "SWVlH8xAgPCu",
        "outputId": "0d5ad7d6-2779-4da5-da0a-a9aa8f257e2d",
        "vscode": {
          "languageId": "python"
        }
      },
      "outputs": [
        {
          "name": "stderr",
          "output_type": "stream",
          "text": [
            "WARNING:gensim.models.ldamodel:too few updates, training might not converge; consider increasing the number of passes or iterations to improve accuracy\n"
          ]
        },
        {
          "name": "stdout",
          "output_type": "stream",
          "text": [
            "Topic: 0 Word: 0.050*\"educational\" + 0.047*\"metaverse\" + 0.041*\"still\" + 0.033*\"context\" + 0.032*\"interaction\" + 0.030*\"gap\" + 0.030*\"development\" + 0.028*\"approach\" + 0.028*\"applied\" + 0.027*\"ways\"\n",
            "Topic: 1 Word: 0.079*\"metaverse\" + 0.065*\"enabling\" + 0.045*\"healthcare\" + 0.045*\"various\" + 0.038*\"augmented\" + 0.033*\"state\" + 0.030*\"interaction\" + 0.028*\"order\" + 0.028*\"there\" + 0.028*\"ways\"\n",
            "Topic: 2 Word: 0.063*\"healthcare\" + 0.057*\"focus\" + 0.044*\"metaverse\" + 0.038*\"software\" + 0.038*\"findings\" + 0.036*\"analyze\" + 0.035*\"related\" + 0.031*\"researchers\" + 0.030*\"models\" + 0.029*\"help\"\n",
            "Topic: 3 Word: 0.063*\"emerging\" + 0.047*\"students\" + 0.039*\"gaps\" + 0.039*\"approach\" + 0.037*\"current\" + 0.037*\"years\" + 0.036*\"health\" + 0.035*\"increase\" + 0.030*\"educational\" + 0.025*\"interventions\"\n",
            "Topic: 4 Word: 0.068*\"order\" + 0.050*\"provide\" + 0.045*\"systems\" + 0.041*\"it\" + 0.037*\"ways\" + 0.037*\"metaverse\" + 0.034*\"however\" + 0.029*\"software\" + 0.027*\"results\" + 0.027*\"work\"\n",
            "Topic: 5 Word: 0.080*\"health\" + 0.043*\"development\" + 0.035*\"key\" + 0.034*\"approach\" + 0.034*\"users\" + 0.031*\"interaction\" + 0.024*\"significant\" + 0.022*\"analyze\" + 0.022*\"methods\" + 0.022*\"tools\"\n",
            "Topic: 6 Word: 0.051*\"systems\" + 0.050*\"process\" + 0.040*\"methods\" + 0.039*\"interventions\" + 0.036*\"environments\" + 0.036*\"various\" + 0.036*\"physical\" + 0.033*\"years\" + 0.031*\"aspects\" + 0.029*\"based\"\n",
            "Topic: 7 Word: 0.066*\"help\" + 0.051*\"still\" + 0.035*\"provide\" + 0.034*\"artificial\" + 0.034*\"intelligence\" + 0.034*\"artificial_intelligence\" + 0.023*\"healthcare\" + 0.023*\"medical\" + 0.023*\"practitioners\" + 0.022*\"findings\"\n"
          ]
        }
      ],
      "source": [
        "model = LdaModel(corpus=corpus_tfidf, id2word=dictionary, num_topics=8) #num topic menyesuaikan hasil dari coherence value paling tinggi\n",
        "for idx, topic in model.print_topics(-1):\n",
        "    print('Topic: {} Word: {}'.format(idx, topic))\n",
        "    # yg belum remove Yang, yg,trus lower text"
      ]
    },
    {
      "cell_type": "code",
      "execution_count": null,
      "metadata": {
        "colab": {
          "base_uri": "https://localhost:8080/"
        },
        "id": "t5CsIHbigduf",
        "outputId": "132039aa-bd5e-4660-87da-0d3699ef72dc",
        "vscode": {
          "languageId": "python"
        }
      },
      "outputs": [
        {
          "name": "stdout",
          "output_type": "stream",
          "text": [
            "None\n"
          ]
        }
      ],
      "source": [
        "import pandas as pd\n",
        "top_words_per_topic = []\n",
        "for t in range(model.num_topics):\n",
        "    top_words_per_topic.extend([(t, ) + x for x in model.show_topic(t, topn = 5)]) #ubah2 yg ini\n",
        "df=pd.DataFrame(top_words_per_topic, columns=['Topic', 'Word', 'P']).to_csv(\"top_words_topic.csv\")\n",
        "#df = pd.DataFrame(top_words_per_topic, columns=['Topic', 'Word','P']).to_csv(\"top_words2_50_clean.csv\")\n",
        "# print(df)"
      ]
    }
  ],
  "metadata": {
    "accelerator": "TPU",
    "colab": {
      "include_colab_link": true,
      "provenance": []
    },
    "kernelspec": {
      "display_name": "Python 3",
      "name": "python3"
    }
  },
  "nbformat": 4,
  "nbformat_minor": 0
}
